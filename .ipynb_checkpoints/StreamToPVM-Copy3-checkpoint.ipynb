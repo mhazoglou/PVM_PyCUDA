{
 "cells": [
  {
   "cell_type": "code",
   "execution_count": 1,
   "metadata": {},
   "outputs": [],
   "source": [
    "%load_ext autoreload\n",
    "%autoreload 2"
   ]
  },
  {
   "cell_type": "code",
   "execution_count": 2,
   "metadata": {},
   "outputs": [],
   "source": [
    "import numpy as np\n",
    "from pycuda import gpuarray, compiler\n",
    "from collections import OrderedDict\n",
    "import cv2 as cv\n",
    "import os\n",
    "import h5py"
   ]
  },
  {
   "cell_type": "code",
   "execution_count": 3,
   "metadata": {},
   "outputs": [],
   "source": [
    "# pick your device the default is 0 if not specified if the next line is not commented\n",
    "os.environ['CUDA_DEVICE'] = '1' \n",
    "\n",
    "# autoinit automatically initializes a CUDA context\n",
    "import pycuda.autoinit\n",
    "\n",
    "from PVM_PyCUDA import OnTheFlyPVM, PhantomXTurretPVM, TransformMotionIntegrationPhantomXTurretPVM"
   ]
  },
  {
   "cell_type": "code",
   "execution_count": null,
   "metadata": {},
   "outputs": [],
   "source": [
    "# The parameters for the PVM they are set to be the same as the paper though this PVM will not be a tracker\n",
    "n_color = 3\n",
    "input_edge_x, input_edge_y = 1, 1\n",
    "input_size = input_edge_x * input_edge_y * n_color\n",
    "hidden_size = 8\n",
    "inner_hidden_size = 8\n",
    "output_sizes = [0] * 9\n",
    "inner_output_size = 0\n",
    "structure = [(128, 96), (64, 48), (32, 24), (16, 12), (8, 6), (4, 3), (3, 2), (2, 1), 1]\n",
    "##[96, 48, 24, 12, 6, 3, 2, 1]#[(64, 48), (64, 48), (32, 24), (16, 12), (8, 6), (4, 3), (3, 2), (2, 1), 1]\n",
    "\n",
    "# break_start_x = 16\n",
    "# break_end_x = 49\n",
    "# break_start_y = 12\n",
    "# break_end_y = 37\n",
    "\n",
    "edge_n_pixels_x, edge_n_pixels_y = input_edge_x * structure[0][0], input_edge_y * structure[0][1]"
   ]
  },
  {
   "cell_type": "code",
   "execution_count": null,
   "metadata": {},
   "outputs": [],
   "source": [
    "# importing two functions for mapping and unmapping and image into a\n",
    "# one dimensional array\n",
    "from FormattingFiles import flatten_image, unflatten_image\n",
    "# importing a function to give a connection dictionary\n",
    "from RectangularGridConstructor import make_connections, break_stuff"
   ]
  },
  {
   "cell_type": "code",
   "execution_count": null,
   "metadata": {},
   "outputs": [],
   "source": [
    "# initialize any instance of a PVM you need to specify how it's connected\n",
    "# this can be as general as you want in principle as connectivity is \n",
    "# defined in dictionary. The function make_connections is a way to \n",
    "# construct a layered hierarchy of rectangular grids with nearest neighbor lateral connections\n",
    "# was done in the paper\n",
    "connect_dict = make_connections(structure, input_size, hidden_size, output_sizes, context_from_top_0_0=True)\n",
    "# break_unit_list = []\n",
    "# for x in range(break_start_x, break_end_x):\n",
    "#     for y in range(break_start_y, break_end_y):\n",
    "#         break_unit_list.append('_0_{}_{}'.format(x, y))\n",
    "# connect_dict = break_stuff(connect_dict, break_unit_list, (input_edge_y, input_edge_x), inner_hidden_size,\n",
    "#                            inner_output_size)\n",
    "\n",
    "\n",
    "# dim is a tuple (height, width, number of colors)\n",
    "dim = (edge_n_pixels_y, edge_n_pixels_x, 3)\n",
    "input_shape = (input_edge_y, input_edge_x)\n",
    "basic_index = np.arange(np.prod(dim)).reshape(dim)\n",
    "flat_map = flatten_image(basic_index, input_shape)\n",
    "rev_flat_map = unflatten_image(basic_index.flatten(), dim, input_shape)"
   ]
  },
  {
   "cell_type": "code",
   "execution_count": null,
   "metadata": {},
   "outputs": [],
   "source": [
    "# you don't need to rerun stuff after it's been saved\n",
    "path = '/media/sdb/'#'~/Downloads/' # press tab for autocomplete results\n",
    "train_filename = path + 'PVM_train_set_96h_by_128w.hdf5'\n",
    "# test_filename = path + 'PVM_test_set.hdf5'\n",
    "\n",
    "train_data = h5py.File(train_filename, 'r')\n",
    "# test_data_reformat_nontracker =  h5py.File(test_filename, 'r')"
   ]
  },
  {
   "cell_type": "code",
   "execution_count": null,
   "metadata": {},
   "outputs": [],
   "source": [
    "pvm = OnTheFlyPVM(connect_dict, flat_map, norm=255.)"
   ]
  },
  {
   "cell_type": "code",
   "execution_count": null,
   "metadata": {},
   "outputs": [],
   "source": [
    "fname = '/home/mhazoglou/PVM_PyCUDA/FullSetTraining/96h_128w_hidden_8_no_tracking_learning_rate_0.01_3500000steps' # choose the path and filename\n",
    "# '/home/mhazoglou/PVM_PyCUDA/FullSetTraining/structure_96_48_24_12_ 6_3_2_1_hidden_8_no_tracking_learning_rate_0.01_3500000steps'"
   ]
  },
  {
   "cell_type": "code",
   "execution_count": null,
   "metadata": {},
   "outputs": [],
   "source": [
    "# run this if model has already been trained and parameters have been trained\n",
    "pvm.load_parameters(fname)"
   ]
  },
  {
   "cell_type": "code",
   "execution_count": null,
   "metadata": {},
   "outputs": [],
   "source": [
    "learning_rate_list = [0.01] * 3500000\n",
    "pvm.train(train_data, learning_rate_list, print_every=100000, \n",
    "          save_every_print=True, filename=fname, interval=100000)"
   ]
  },
  {
   "cell_type": "code",
   "execution_count": 4,
   "metadata": {},
   "outputs": [],
   "source": [
    "cap = cv.VideoCapture(0)"
   ]
  },
  {
   "cell_type": "code",
   "execution_count": 5,
   "metadata": {},
   "outputs": [
    {
     "data": {
      "text/plain": [
       "True"
      ]
     },
     "execution_count": 5,
     "metadata": {},
     "output_type": "execute_result"
    }
   ],
   "source": [
    "cap.set(4, 240)\n",
    "cap.set(3, 320)"
   ]
  },
  {
   "cell_type": "code",
   "execution_count": 6,
   "metadata": {},
   "outputs": [
    {
     "data": {
      "text/plain": [
       "True"
      ]
     },
     "execution_count": 6,
     "metadata": {},
     "output_type": "execute_result"
    }
   ],
   "source": [
    "cap.set(5, 120)\n",
    "cap.set(cv.CAP_PROP_BUFFERSIZE, 1)"
   ]
  },
  {
   "cell_type": "code",
   "execution_count": null,
   "metadata": {},
   "outputs": [],
   "source": [
    "pvm.capture(cap, dim)"
   ]
  },
  {
   "cell_type": "code",
   "execution_count": null,
   "metadata": {},
   "outputs": [],
   "source": [
    "pvm.train_capture(cap, dim, learning_rate=0.001, wait_time=10, scale=1)"
   ]
  },
  {
   "cell_type": "code",
   "execution_count": null,
   "metadata": {},
   "outputs": [],
   "source": [
    "rev_map = np.argsort(\n",
    "    pvm.input_frame_shuffle.get()\n",
    ").reshape(edge_n_pixels_y, edge_n_pixels_x, n_color)\n",
    "\n",
    "try:\n",
    "    while True:\n",
    "        ret, frame = cap.read()\n",
    "        input_frame = np.array(cv.resize(frame, \n",
    "                                         (edge_n_pixels_x, edge_n_pixels_y)\n",
    "                                        ), order='C', dtype=np.uint8)\n",
    "        cv.imshow('frame', frame)\n",
    "        \n",
    "        pvm.forward(input_frame)\n",
    "        \n",
    "        cv.imshow('Prediction', cv.resize(np.array(\n",
    "            pvm.norm * pvm.pred[:pvm.L_input].get(),\n",
    "            dtype=np.uint8\n",
    "        )[rev_map], (0, 0), fx=2.5, fy=2.5))\n",
    "        \n",
    "        cv.imshow('Error', cv.resize(np.array(\n",
    "            pvm.norm * abs(pvm.err[:pvm.L_input].get() - 0.5),\n",
    "            dtype=np.uint8\n",
    "        )[rev_map], (0, 0), fx=2.5, fy=2.5))\n",
    "        \n",
    "        cv.waitKey(1)\n",
    "    # When everything done, release the capture\n",
    "    cap.release()\n",
    "    cv.destroyAllWindows()\n",
    "except KeyboardInterrupt:\n",
    "    cv.destroyAllWindows()"
   ]
  },
  {
   "cell_type": "code",
   "execution_count": 7,
   "metadata": {},
   "outputs": [],
   "source": [
    "import serial"
   ]
  },
  {
   "cell_type": "code",
   "execution_count": 8,
   "metadata": {},
   "outputs": [],
   "source": [
    "ser = serial.Serial('/dev/ttyUSB0', 9600)"
   ]
  },
  {
   "cell_type": "code",
   "execution_count": 9,
   "metadata": {},
   "outputs": [],
   "source": [
    "# importing two functions for mapping and unmapping and image into a\n",
    "# one dimensional array\n",
    "from FormattingFiles import flatten_image, unflatten_image\n",
    "# importing a function to give a connection dictionary\n",
    "from RectangularGridConstructor import make_connections, break_stuff\n",
    "\n",
    "n_color = 3\n",
    "input_edge_x, input_edge_y = 2, 2\n",
    "input_size = input_edge_x * input_edge_y * n_color\n",
    "hidden_size = 5\n",
    "inner_hidden_size = 5\n",
    "output_sizes = [0] * 8#\n",
    "inner_output_size = 0\n",
    "structure = [(64, 48), (32, 24), (16, 12), (8, 6), (4, 3), (3, 2), (2, 1), 1]\n",
    "\n",
    "break_start_x = 16\n",
    "break_end_x = 49\n",
    "break_start_y = 12\n",
    "break_end_y = 37\n",
    "\n",
    "edge_n_pixels_x, edge_n_pixels_y = input_edge_x * structure[0][0], input_edge_y * structure[0][1]\n",
    "\n",
    "# initialize any instance of a PVM you need to specify how it's connected\n",
    "# this can be as general as you want in principle as connectivity is\n",
    "# defined in dictionary. The function make_connections is a way to\n",
    "# construct a layered hierarchy of rectangular grids with nearest neighbor lateral connections\n",
    "# was done in the paper\n",
    "connect_dict = make_connections(structure, input_size, hidden_size,\n",
    "                                output_sizes, context_from_top_0_0=True)\n",
    "\n",
    "break_unit_list = []\n",
    "for x in range(break_start_x, break_end_x):\n",
    "    for y in range(break_start_y, break_end_y):\n",
    "        break_unit_list.append('_0_{}_{}'.format(x, y))\n",
    "\n",
    "connect_dict = break_stuff(connect_dict,\n",
    "                           break_unit_list,\n",
    "                           (input_edge_y, input_edge_x),\n",
    "                           inner_hidden_size,\n",
    "                           inner_output_size)\n",
    "\n",
    "dim = (edge_n_pixels_y, edge_n_pixels_x, 3)\n",
    "input_shape = (input_edge_y, input_edge_x)\n",
    "basic_index = np.arange(np.prod(dim)).reshape(dim)\n",
    "flat_map = flatten_image(basic_index, input_shape)"
   ]
  },
  {
   "cell_type": "code",
   "execution_count": 10,
   "metadata": {},
   "outputs": [],
   "source": [
    "pvm_mtt = TransformMotionIntegrationPhantomXTurretPVM(connect_dict, flat_map, dim, 32, 32, 75,\n",
    "                                                      fov_horizontal=True, norm=255., noise=1, threshold=0.1)"
   ]
  },
  {
   "cell_type": "code",
   "execution_count": 11,
   "metadata": {},
   "outputs": [],
   "source": [
    "pvm_mtt.load_parameters('/media/sdb' + '/MotionIntegration/' +\n",
    "                        'swap_foveated_no_transfer_transform_motion_integration_adam_1_pixel_per_unit_hidden_5_epochs_80')"
   ]
  },
  {
   "cell_type": "code",
   "execution_count": 13,
   "metadata": {},
   "outputs": [],
   "source": [
    "pvm_mtt.serial_communication_and_capture(ser, cap, wait_time=50, scale=1)"
   ]
  },
  {
   "cell_type": "code",
   "execution_count": null,
   "metadata": {},
   "outputs": [],
   "source": [
    "pvm_turret = PhantomXTurretPVM(connect_dict, flat_map, dim, 32, 32, 75, \n",
    "                               fov_horizontal=True, norm=255., noise=0, threshold=0.0)"
   ]
  },
  {
   "cell_type": "code",
   "execution_count": null,
   "metadata": {},
   "outputs": [],
   "source": [
    "pvm_turret.load_parameters(fname)"
   ]
  },
  {
   "cell_type": "code",
   "execution_count": null,
   "metadata": {},
   "outputs": [],
   "source": [
    "pvm_turret.serial_communication_and_capture(ser, cap, dim, wait_time=77, scale=5)"
   ]
  },
  {
   "cell_type": "code",
   "execution_count": null,
   "metadata": {
    "scrolled": true
   },
   "outputs": [],
   "source": [
    "pvm_turret.train_capture(cap, dim, learning_rate=0.001, wait_time=10, scale=5)"
   ]
  },
  {
   "cell_type": "code",
   "execution_count": null,
   "metadata": {},
   "outputs": [],
   "source": [
    "pvm_turret.capture(cap, dim, wait_time=17, scale=5)"
   ]
  },
  {
   "cell_type": "code",
   "execution_count": null,
   "metadata": {},
   "outputs": [],
   "source": [
    "cap.release()"
   ]
  },
  {
   "cell_type": "code",
   "execution_count": null,
   "metadata": {},
   "outputs": [],
   "source": [
    "pvm_turret.pixel_focal_length"
   ]
  },
  {
   "cell_type": "code",
   "execution_count": null,
   "metadata": {},
   "outputs": [],
   "source": [
    "ser.close()"
   ]
  },
  {
   "cell_type": "code",
   "execution_count": null,
   "metadata": {},
   "outputs": [],
   "source": [
    "from time import sleep"
   ]
  },
  {
   "cell_type": "code",
   "execution_count": null,
   "metadata": {},
   "outputs": [],
   "source": [
    "1/13"
   ]
  },
  {
   "cell_type": "code",
   "execution_count": null,
   "metadata": {},
   "outputs": [],
   "source": [
    "1/60"
   ]
  },
  {
   "cell_type": "code",
   "execution_count": null,
   "metadata": {},
   "outputs": [],
   "source": [
    "fps = 13\n",
    "for _ in range(100):\n",
    "    ser.write((str(512) + ',' + str(512) + ',').encode())\n",
    "    sleep(1/fps)"
   ]
  },
  {
   "cell_type": "code",
   "execution_count": null,
   "metadata": {},
   "outputs": [],
   "source": [
    "fps = 29\n",
    "for _ in range(100):\n",
    "    ser.write((str(512) + ',').encode())\n",
    "    sleep(1/fps)"
   ]
  },
  {
   "cell_type": "code",
   "execution_count": null,
   "metadata": {},
   "outputs": [],
   "source": [
    "ser.write((str(512) + ',').encode())"
   ]
  },
  {
   "cell_type": "code",
   "execution_count": null,
   "metadata": {},
   "outputs": [],
   "source": [
    "ser.write(('400,').encode())"
   ]
  }
 ],
 "metadata": {
  "kernelspec": {
   "display_name": "Python 3",
   "language": "python",
   "name": "python3"
  },
  "language_info": {
   "codemirror_mode": {
    "name": "ipython",
    "version": 3
   },
   "file_extension": ".py",
   "mimetype": "text/x-python",
   "name": "python",
   "nbconvert_exporter": "python",
   "pygments_lexer": "ipython3",
   "version": "3.6.4"
  }
 },
 "nbformat": 4,
 "nbformat_minor": 2
}
