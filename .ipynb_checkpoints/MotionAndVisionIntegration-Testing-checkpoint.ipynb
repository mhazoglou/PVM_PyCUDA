{
 "cells": [
  {
   "cell_type": "code",
   "execution_count": 1,
   "metadata": {},
   "outputs": [],
   "source": [
    "# this will be useful if you need to reload any module after some changes\n",
    "%load_ext autoreload\n",
    "%autoreload 2"
   ]
  },
  {
   "cell_type": "code",
   "execution_count": 2,
   "metadata": {},
   "outputs": [],
   "source": [
    "import numpy as np\n",
    "from pycuda import gpuarray, compiler\n",
    "from collections import OrderedDict\n",
    "import os\n",
    "import h5py"
   ]
  },
  {
   "cell_type": "code",
   "execution_count": 3,
   "metadata": {
    "scrolled": true
   },
   "outputs": [],
   "source": [
    "# pick your device the default is 0 if not specified if the next line is not commented\n",
    "os.environ['CUDA_DEVICE'] = '1' \n",
    "\n",
    "# autoinit automatically initializes a CUDA context\n",
    "import pycuda.autoinit\n",
    "\n",
    "from PVM_PyCUDA import OnTheFlyPVM, TransformMotionIntegrationPVM"
   ]
  },
  {
   "cell_type": "code",
   "execution_count": 4,
   "metadata": {},
   "outputs": [],
   "source": [
    "# importing two functions for mapping and unmapping and image into a\n",
    "# one dimensional array\n",
    "from FormattingFiles import flatten_image, unflatten_image\n",
    "# importing a function to give a connection dictionary\n",
    "from RectangularGridConstructor import make_connections, break_stuff"
   ]
  },
  {
   "cell_type": "code",
   "execution_count": 5,
   "metadata": {},
   "outputs": [],
   "source": [
    "# The parameters for the PVM they are different from the original paper\n",
    "n_color = 3\n",
    "input_edge_x, input_edge_y = 1, 1\n",
    "input_size = input_edge_x * input_edge_y * n_color\n",
    "hidden_size = 5\n",
    "inner_hidden_size = 5\n",
    "output_sizes = [0] * 9#8#\n",
    "inner_output_size = 0\n",
    "structure = [(128, 96), (64, 48), (32, 24),(16, 12), (8, 6), (4, 3), (3, 2), (2, 1), 1]\n",
    "#[(64, 48), (64, 48), (32, 24), (16, 12), (8, 6), (4, 3), (3, 2), (2, 1), 1]\n",
    "#[(128, 96), (64, 48), (32, 24), (16, 12), (8, 6), (4, 3), (3, 2), (2, 1), 1]#[(96, 96), 48, 24, 12, 6, 3, 2, 1]#\n",
    "\n",
    "# break_start_x = 16\n",
    "# break_end_x = 49\n",
    "# break_start_y = 12\n",
    "# break_end_y = 37\n",
    "\n",
    "edge_n_pixels_x, edge_n_pixels_y = input_edge_x * structure[0][0], input_edge_y * structure[0][1]"
   ]
  },
  {
   "cell_type": "code",
   "execution_count": 6,
   "metadata": {},
   "outputs": [],
   "source": [
    "# initialize any instance of a PVM you need to specify how it's connected\n",
    "# this can be as general as you want in principle as connectivity is \n",
    "# defined in dictionary. The function make_connections is a way to \n",
    "# construct a layered hierarchy of rectangular grids with nearest neighbor lateral connections\n",
    "# was done in the paper\n",
    "connect_dict = make_connections(structure, input_size, hidden_size, \n",
    "                                output_sizes, context_from_top_0_0=True)\n",
    "# break_unit_list = []\n",
    "# for x in range(break_start_x, break_end_x):\n",
    "#     for y in range(break_start_y, break_end_y):\n",
    "#         break_unit_list.append('_0_{}_{}'.format(x, y))\n",
    "\n",
    "# connect_dict = break_stuff(connect_dict, \n",
    "#                            break_unit_list, \n",
    "#                            (input_edge_y, input_edge_x), \n",
    "#                            inner_hidden_size,\n",
    "#                            inner_output_size)\n",
    "\n",
    "\n",
    "# dim is a tuple (height, width, number of colors)\n",
    "dim = (edge_n_pixels_y, edge_n_pixels_x, 3)\n",
    "input_shape = (input_edge_y, input_edge_x)\n",
    "basic_index = np.arange(np.prod(dim)).reshape(dim)\n",
    "flat_map = flatten_image(basic_index, input_shape)\n",
    "# rev_flat_map = unflatten_image(basic_index.flatten(), dim, input_shape)"
   ]
  },
  {
   "cell_type": "code",
   "execution_count": 7,
   "metadata": {},
   "outputs": [],
   "source": [
    "path = '/media/sdb/'\n",
    "train_filename = path + 'PVM_movement_integration_train_set_96h_by_128w.hdf5'\n",
    "# 'PVM_train_set_96h_by_128w.hdf5'\n",
    "#'PVM_movement_integration_train_set_96h_by_128w_no_position.hdf5'\n",
    "\n",
    "test_filename = path + 'PVM_movement_integration_test_set_96h_by_128w.hdf5'\n",
    "\n",
    "train_data = h5py.File(train_filename, 'r')\n",
    "test_data_reformat_nontracker =  h5py.File(test_filename, 'r')"
   ]
  },
  {
   "cell_type": "code",
   "execution_count": 8,
   "metadata": {},
   "outputs": [],
   "source": [
    "base_pvm = OnTheFlyPVM(connect_dict, flat_map, norm=255., act_type='sigmoid', zero_bias=False, bptt_steps=1)"
   ]
  },
  {
   "cell_type": "code",
   "execution_count": 9,
   "metadata": {},
   "outputs": [],
   "source": [
    "pvm = TransformMotionIntegrationPVM(connect_dict, flat_map, 128, norm=255.,\n",
    "                           act_type='sigmoid', maxthreads=1024,\n",
    "                           max_grid_size=65535, zero_bias=False, bptt_steps=1)"
   ]
  },
  {
   "cell_type": "code",
   "execution_count": 10,
   "metadata": {},
   "outputs": [],
   "source": [
    "fname = '/media/sdb/MotionIntegration/motion_integration_data_with_no_servo_values_adam_1_pixel_per_unit_hidden_5_epochs_100'\n",
    "# '/home/mhazoglou/PVM_PyCUDA/MotionIntegration/model_for_transfer_1_pixel_per_unit_learning_exp1_CONTROL_hidden_size_5_3518724steps_0.01'\n",
    "# fname = '/home/mhazoglou/PVM_PyCUDA/MotionIntegration/test_bptt_61_1_pixel_per_unit_hidden_5_epochs_61'"
   ]
  },
  {
   "cell_type": "code",
   "execution_count": null,
   "metadata": {},
   "outputs": [],
   "source": [
    "pvm.transfer_parameters(fname)"
   ]
  },
  {
   "cell_type": "code",
   "execution_count": 11,
   "metadata": {},
   "outputs": [],
   "source": [
    "base_pvm.load_parameters(fname)"
   ]
  },
  {
   "cell_type": "code",
   "execution_count": 12,
   "metadata": {},
   "outputs": [],
   "source": [
    "pvm.load_parameters(path + \"MotionIntegration/no_transfer_transform_motion_integration_adam_1_pixel_per_unit_hidden_5_epochs_100\")"
   ]
  },
  {
   "cell_type": "code",
   "execution_count": null,
   "metadata": {
    "scrolled": true
   },
   "outputs": [],
   "source": [
    "# learning_rate_list = [0.00016] * 57684\n",
    "pvm.adam_train(train_data, \n",
    "               100, #learning_rate_list, \n",
    "               print_every=10967, # 57606,# \n",
    "               save_every_print=True,#False,#\n",
    "               filename=path + '/MotionIntegration/no_transfer_transform_motion_integration_adam_1_pixel_per_unit_hidden_5_epochs_100',\n",
    "                 #fname, \n",
    "#                \"/home/mhazoglou/PVM_PyCUDA/MotionIntegration/transfer_motion_integration_adam_test_unnormed\",\n",
    "#                '/home/mhazoglou/PVM_PyCUDA/MotionIntegration/test_loop_forward_5_times_adam_1_pixel_per_unit_hidden_5_epochs_100',\n",
    "               interval=10967 #57606 #\n",
    "              )"
   ]
  },
  {
   "cell_type": "code",
   "execution_count": null,
   "metadata": {},
   "outputs": [],
   "source": [
    "# pvm.save_mse('/home/mhazoglou/PVM_PyCUDA/MotionIntegration/test_adam_1_pixel_per_unit_hidden_5_epochs_100')"
   ]
  },
  {
   "cell_type": "code",
   "execution_count": null,
   "metadata": {},
   "outputs": [],
   "source": [
    "pvm.quick_animate(train_data, scale=5)"
   ]
  },
  {
   "cell_type": "code",
   "execution_count": null,
   "metadata": {},
   "outputs": [],
   "source": [
    "pvm.quick_animate(test_data_reformat_nontracker, wait_time=500, scale=5)"
   ]
  },
  {
   "cell_type": "code",
   "execution_count": null,
   "metadata": {},
   "outputs": [],
   "source": [
    "tot_frames_in_epoch = 0\n",
    "err_sum = 0\n",
    "for key, data in train_data.items():\n",
    "    n_frame, row, column, n_colors = data['images'].shape\n",
    "    \n",
    "    for _ in range(1, n_frame - 1):\n",
    "        tot_frames_in_epoch += 1\n",
    "        err_sum += np.sum(( (data['images'][_] - data['images'][_ - 1]) / 255) ** 2) / (row * column * n_colors)"
   ]
  },
  {
   "cell_type": "code",
   "execution_count": null,
   "metadata": {},
   "outputs": [],
   "source": [
    "tot_frames_in_epoch"
   ]
  },
  {
   "cell_type": "code",
   "execution_count": null,
   "metadata": {},
   "outputs": [],
   "source": [
    "err_sum/tot_frames_in_epoch"
   ]
  },
  {
   "cell_type": "code",
   "execution_count": null,
   "metadata": {},
   "outputs": [],
   "source": [
    "tot_frames_in_epoch = 0\n",
    "sup_error = 0\n",
    "test_error = 0\n",
    "for key, data in test_data_reformat_nontracker.items():\n",
    "    n_frame, row, column, n_colors = data.shape\n",
    "\n",
    "    pvm.reset_state()\n",
    "    pvm.forward(data[0, ...])\n",
    "    for i in range(0, n_frame - 1):\n",
    "        pvm.forward(data[i, ...])\n",
    "        test_error += pvm.err[:pvm.L_input].get()**2 / (row * column * n_colors)\n",
    "        tot_frames_in_epoch += 1\n",
    "        sup_error += ((data[i, ...] - data[i - 1, ...]) / 255.)** 2 / (row * column * n_colors)\n",
    "        "
   ]
  },
  {
   "cell_type": "code",
   "execution_count": null,
   "metadata": {},
   "outputs": [],
   "source": [
    "np.sum(test_error)/ tot_frames_in_epoch"
   ]
  },
  {
   "cell_type": "code",
   "execution_count": null,
   "metadata": {},
   "outputs": [],
   "source": [
    "tot_frames_in_epoch = 0\n",
    "sup_error = 0\n",
    "test_error = 0\n",
    "\n",
    "# rev_map = np.argsort(\n",
    "#     pvm.input_frame_shuffle.get()\n",
    "# ).reshape(height, width, n_colors)\n",
    "\n",
    "# test_data_reformat_nontracker.get()\n",
    "\n",
    "for key, data in test_data_reformat_nontracker.items():\n",
    "    frames = data['images']\n",
    "    n_frame, row, column, n_colors = frames.shape\n",
    "    position = data['position']\n",
    "    \n",
    "    pvm.reset_state()\n",
    "#     pvm.forward(frames[0, ...], position[0], position[0])\n",
    "    for i in range(n_frame - 1):\n",
    "        pvm.forward(frames[i, ...], position[i + 1, ...], position[i, ...])\n",
    "        f = frames[i + 1, ...].ravel()\n",
    "        test_error += (f[pvm.input_frame_shuffle.get()] / pvm.norm - pvm.pred[:pvm.L_input].get()) ** 2 / (row * column * n_colors)\n",
    "#         test_error += (2 * pvm.err[:pvm.L_input].get() - 1) ** 2 / (row * column * n_colors)\n",
    "#         test_error += (2 * pvm.err.get() - 1) ** 2 / (pvm.L_pred)\n",
    "        tot_frames_in_epoch += 1\n",
    "#         sup_error += ((frames[i + 1, ...] - frames[i, ...]) / 255.)** 2 / (row * column * n_colors)\n",
    "        "
   ]
  },
  {
   "cell_type": "code",
   "execution_count": null,
   "metadata": {},
   "outputs": [],
   "source": [
    "#60\n",
    "np.sum(test_error) / tot_frames_in_epoch"
   ]
  },
  {
   "cell_type": "code",
   "execution_count": null,
   "metadata": {},
   "outputs": [],
   "source": [
    "#80\n",
    "np.sum(test_error) / tot_frames_in_epoch"
   ]
  },
  {
   "cell_type": "code",
   "execution_count": null,
   "metadata": {},
   "outputs": [],
   "source": [
    "#100\n",
    "np.sum(test_error) / tot_frames_in_epoch"
   ]
  },
  {
   "cell_type": "code",
   "execution_count": null,
   "metadata": {},
   "outputs": [],
   "source": [
    "#100\n",
    "np.sum(test_error) / tot_frames_in_epoch"
   ]
  },
  {
   "cell_type": "code",
   "execution_count": null,
   "metadata": {},
   "outputs": [],
   "source": [
    "#100\n",
    "np.sum(test_error) / tot_frames_in_epoch"
   ]
  },
  {
   "cell_type": "code",
   "execution_count": null,
   "metadata": {},
   "outputs": [],
   "source": [
    "np.sum(sup_error)/tot_frames_in_epoch"
   ]
  },
  {
   "cell_type": "code",
   "execution_count": null,
   "metadata": {},
   "outputs": [],
   "source": [
    "tot_frames_in_epoch"
   ]
  },
  {
   "cell_type": "code",
   "execution_count": null,
   "metadata": {},
   "outputs": [],
   "source": [
    "pvm.test(test_data_reformat_nontracker)"
   ]
  },
  {
   "cell_type": "code",
   "execution_count": null,
   "metadata": {},
   "outputs": [],
   "source": [
    "a = gpuarray.to_gpu(np.zeros(100, dtype=np.float64)) + 1\n",
    "suma = sum(a)"
   ]
  },
  {
   "cell_type": "code",
   "execution_count": null,
   "metadata": {},
   "outputs": [],
   "source": [
    "np.asscalar(suma.get())"
   ]
  },
  {
   "cell_type": "code",
   "execution_count": 40,
   "metadata": {},
   "outputs": [],
   "source": [
    "import cv2\n",
    "\n",
    "def compare_animate(self, other, dict_testing_data, wait_time=17, scale=1):\n",
    "    print(\"-\" * 80 + \"\\n\" + \"Animating testing data\" + \"\\n\" + \"-\" * 80)\n",
    "    print(\"Use a Keyboard interruption to exit early.\")\n",
    "    print('-' * 80)\n",
    "    datum = dict_testing_data[list(dict_testing_data.keys())[0]]\n",
    "\n",
    "    frame_datum = datum['images']\n",
    "    # pose_datum =datum['position']\n",
    "    _, height, width, n_colors = frame_datum.shape\n",
    "    rev_map = np.argsort(\n",
    "        self.input_frame_shuffle.get()\n",
    "    ).reshape(height, width, n_colors)\n",
    "\n",
    "    def rescale(img):\n",
    "        return cv2.resize(img, (0, 0), fx=scale, fy=scale)\n",
    "\n",
    "    try:\n",
    "        for key, data in dict_testing_data.items():\n",
    "            frame_data = dict_testing_data[key]['images']\n",
    "            n_frames, height, width, n_colors = frame_data.shape\n",
    "            pose_data = dict_testing_data[key]['position']\n",
    "            self.reset_state()\n",
    "\n",
    "            for i in range(1, n_frames):\n",
    "                single_frame = frame_data[i, ...]\n",
    "                prev_frame = frame_data[i - 1, ...]\n",
    "                single_pose = pose_data[i, ...]\n",
    "                prev_pose = pose_data[i - 1, ...]\n",
    "                self.forward(prev_frame, single_pose, prev_pose)\n",
    "                cv2.imshow(\n",
    "                    \"Input Frame\",\n",
    "                    rescale(\n",
    "                        np.array(\n",
    "                            single_frame\n",
    "                        )[..., ::-1]\n",
    "                    )\n",
    "                )\n",
    "                \n",
    "                prediction = np.array(\n",
    "                    self.pred[:self.L_input].get()\n",
    "                )[rev_map[..., ::-1]]\n",
    "                \n",
    "                cv2.imshow(\n",
    "                    \"Prediction\",\n",
    "                    rescale(\n",
    "                        prediction\n",
    "                    )\n",
    "                )\n",
    "                cv2.imshow(\n",
    "                    \"Error previous frame\",\n",
    "                    rescale(\n",
    "                        abs(prediction - np.array(single_frame)[..., ::-1] / self.norm)\n",
    "                    )\n",
    "                )\n",
    "                \n",
    "                other.forward(single_frame)\n",
    "                other_prediction = np.array(\n",
    "                    other.pred[:self.L_input].get()\n",
    "                )[rev_map[..., ::-1]]\n",
    "                cv2.imshow(\n",
    "                    \"Base model Input Frame\",\n",
    "                    rescale(\n",
    "                        np.array(\n",
    "                            single_frame,\n",
    "                        )[..., ::-1] \n",
    "                    )\n",
    "                )\n",
    "                cv2.imshow(\n",
    "                    \"Base model Prediction\",\n",
    "                    rescale(\n",
    "                        other_prediction\n",
    "                    )\n",
    "                )\n",
    "                cv2.imshow(\n",
    "                    \"Base model Error previous frame\",\n",
    "                    rescale(\n",
    "                        abs(other.norm * other_prediction - np.array(single_frame)[..., ::-1])\n",
    "                    )\n",
    "                )\n",
    "                cv2.waitKey(wait_time)\n",
    "        cv2.destroyAllWindows()\n",
    "    except KeyboardInterrupt:\n",
    "        cv2.destroyAllWindows()"
   ]
  },
  {
   "cell_type": "code",
   "execution_count": 41,
   "metadata": {},
   "outputs": [
    {
     "name": "stdout",
     "output_type": "stream",
     "text": [
      "--------------------------------------------------------------------------------\n",
      "Animating testing data\n",
      "--------------------------------------------------------------------------------\n",
      "Use a Keyboard interruption to exit early.\n",
      "--------------------------------------------------------------------------------\n"
     ]
    }
   ],
   "source": [
    "compare_animate(pvm, base_pvm, test_data_reformat_nontracker, wait_time=17, scale=5)"
   ]
  },
  {
   "cell_type": "code",
   "execution_count": 36,
   "metadata": {},
   "outputs": [
    {
     "data": {
      "text/plain": [
       "array([[[ 94.55353211, 105.94406006, 104.3561757 ],\n",
       "        [ 92.64715472, 108.21866348, 106.5846529 ],\n",
       "        [ 94.13737101, 109.72921253, 106.40963516],\n",
       "        ...,\n",
       "        [178.72535362, 192.23784472, 190.41452896],\n",
       "        [178.94268906, 195.98431492, 194.31613385],\n",
       "        [183.92141352, 195.87047021, 194.21122229]],\n",
       "\n",
       "       [[ 95.48755231, 107.49977306, 105.70826335],\n",
       "        [ 91.8750994 , 105.13492632, 103.03043742],\n",
       "        [ 90.00113189, 106.64856581, 104.644878  ],\n",
       "        ...,\n",
       "        [180.28776186, 195.51565958, 192.87293676],\n",
       "        [183.0847682 , 198.37072833, 197.05708986],\n",
       "        [180.40616082, 196.07291245, 193.40443347]],\n",
       "\n",
       "       [[ 91.07616902, 107.03128786, 107.32512792],\n",
       "        [ 90.12023625, 106.23815584, 104.46226452],\n",
       "        [ 93.25610502, 107.80335783, 103.27756059],\n",
       "        ...,\n",
       "        [187.74211969, 201.60408348, 199.1924463 ],\n",
       "        [183.75005412, 196.86690183, 195.59861199],\n",
       "        [183.38606296, 199.97249125, 198.8748495 ]],\n",
       "\n",
       "       ...,\n",
       "\n",
       "       [[121.67556807, 140.5071833 , 137.06342441],\n",
       "        [124.58622042, 147.22862163, 144.48511986],\n",
       "        [116.66051079, 141.23857389, 140.06030793],\n",
       "        ...,\n",
       "        [ 61.39535046,  68.60822825,  67.36884759],\n",
       "        [ 51.65491691,  59.5313833 ,  58.7389358 ],\n",
       "        [ 52.8241063 ,  61.04534349,  62.33595767]],\n",
       "\n",
       "       [[127.89099988, 150.27505933, 150.84858438],\n",
       "        [127.77048661, 147.75938722, 143.7827378 ],\n",
       "        [128.51025169, 146.51384204, 144.26313697],\n",
       "        ...,\n",
       "        [ 53.52779935,  64.38894652,  63.73232021],\n",
       "        [ 66.429895  ,  73.56349265,  71.27029145],\n",
       "        [ 56.72857886,  64.8644808 ,  64.60330684]],\n",
       "\n",
       "       [[122.10715082, 141.50598808, 139.25186433],\n",
       "        [126.13390552, 150.6714415 , 146.64349011],\n",
       "        [125.96968271, 149.01553607, 145.21972028],\n",
       "        ...,\n",
       "        [ 52.50364829,  63.15242561,  68.99113649],\n",
       "        [ 61.12367968,  70.41698527,  69.2336201 ],\n",
       "        [ 63.49492995,  71.15543884,  70.07458743]]])"
      ]
     },
     "execution_count": 36,
     "metadata": {},
     "output_type": "execute_result"
    }
   ],
   "source": [
    " np.array(\n",
    "     pvm.norm * pvm.pred[:pvm.L_input].get()\n",
    " )[rev_map[..., ::-1]] "
   ]
  },
  {
   "cell_type": "code",
   "execution_count": 31,
   "metadata": {},
   "outputs": [],
   "source": [
    "dict_testing_data = test_data_reformat_nontracker\n",
    "datum = dict_testing_data[list(dict_testing_data.keys())[0]]\n",
    "\n",
    "frame_datum = datum['images']\n",
    "# pose_datum =datum['position']\n",
    "_, height, width, n_colors = frame_datum.shape\n",
    "rev_map = np.argsort(\n",
    "    pvm.input_frame_shuffle.get()\n",
    ").reshape(height, width, n_colors)"
   ]
  },
  {
   "cell_type": "code",
   "execution_count": null,
   "metadata": {},
   "outputs": [],
   "source": []
  }
 ],
 "metadata": {
  "kernelspec": {
   "display_name": "Python 3",
   "language": "python",
   "name": "python3"
  },
  "language_info": {
   "codemirror_mode": {
    "name": "ipython",
    "version": 3
   },
   "file_extension": ".py",
   "mimetype": "text/x-python",
   "name": "python",
   "nbconvert_exporter": "python",
   "pygments_lexer": "ipython3",
   "version": "3.6.4"
  }
 },
 "nbformat": 4,
 "nbformat_minor": 2
}
