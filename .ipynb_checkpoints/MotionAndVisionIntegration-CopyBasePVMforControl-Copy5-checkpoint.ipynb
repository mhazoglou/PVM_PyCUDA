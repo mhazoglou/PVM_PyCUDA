{
 "cells": [
  {
   "cell_type": "code",
   "execution_count": 1,
   "metadata": {},
   "outputs": [],
   "source": [
    "# this will be useful if you need to reload any module after some changes\n",
    "%load_ext autoreload\n",
    "%autoreload 2"
   ]
  },
  {
   "cell_type": "code",
   "execution_count": 2,
   "metadata": {},
   "outputs": [],
   "source": [
    "import numpy as np\n",
    "from pycuda import gpuarray, compiler\n",
    "from collections import OrderedDict\n",
    "import os\n",
    "import h5py"
   ]
  },
  {
   "cell_type": "code",
   "execution_count": 3,
   "metadata": {},
   "outputs": [],
   "source": [
    "# pick your device the default is 0 if not specified if the next line is not commented\n",
    "os.environ['CUDA_DEVICE'] = '1' \n",
    "\n",
    "# autoinit automatically initializes a CUDA context\n",
    "import pycuda.autoinit\n",
    "\n",
    "from PVM_PyCUDA import OnTheFlyPVM"
   ]
  },
  {
   "cell_type": "code",
   "execution_count": 4,
   "metadata": {},
   "outputs": [],
   "source": [
    "# importing two functions for mapping and unmapping and image into a\n",
    "# one dimensional array\n",
    "from FormattingFiles import flatten_image, unflatten_image\n",
    "# importing a function to give a connection dictionary\n",
    "from RectangularGridConstructor import make_connections, break_stuff"
   ]
  },
  {
   "cell_type": "code",
   "execution_count": 5,
   "metadata": {},
   "outputs": [],
   "source": [
    "# The parameters for the PVM they are different from the original paper\n",
    "n_color = 3\n",
    "input_edge_x, input_edge_y = 2, 2\n",
    "input_size = input_edge_x * input_edge_y * n_color\n",
    "hidden_size = 5\n",
    "inner_hidden_size = 5\n",
    "output_sizes = [0] * 8#9#\n",
    "inner_output_size = 0\n",
    "structure = [(64, 48), (32, 24), (16, 12), (8, 6), (4, 3), (3, 2), (2, 1), 1]\n",
    "#[(64, 48), (64, 48), (32, 24), (16, 12), (8, 6), (4, 3), (3, 2), (2, 1), 1]\n",
    "#[(128, 96), (64, 48), (32, 24), (16, 12), (8, 6), (4, 3), (3, 2), (2, 1), 1]#[(96, 96), 48, 24, 12, 6, 3, 2, 1]#\n",
    "\n",
    "# break_start_x = 16\n",
    "# break_end_x = 49\n",
    "# break_start_y = 12\n",
    "# break_end_y = 37\n",
    "\n",
    "edge_n_pixels_x, edge_n_pixels_y = input_edge_x * structure[0][0], input_edge_y * structure[0][1]"
   ]
  },
  {
   "cell_type": "code",
   "execution_count": 6,
   "metadata": {},
   "outputs": [],
   "source": [
    "# initialize any instance of a PVM you need to specify how it's connected\n",
    "# this can be as general as you want in principle as connectivity is \n",
    "# defined in dictionary. The function make_connections is a way to \n",
    "# construct a layered hierarchy of rectangular grids with nearest neighbor lateral connections\n",
    "# was done in the paper\n",
    "connect_dict = make_connections(structure, input_size, hidden_size, \n",
    "                                output_sizes, context_from_top_0_0=True)\n",
    "# break_unit_list = []\n",
    "# for x in range(break_start_x, break_end_x):\n",
    "#     for y in range(break_start_y, break_end_y):\n",
    "#         break_unit_list.append('_0_{}_{}'.format(x, y))\n",
    "\n",
    "# connect_dict = break_stuff(connect_dict, \n",
    "#                            break_unit_list, \n",
    "#                            (input_edge_y, input_edge_x), \n",
    "#                            inner_hidden_size,\n",
    "#                            inner_output_size)\n",
    "\n",
    "\n",
    "# dim is a tuple (height, width, number of colors)\n",
    "dim = (edge_n_pixels_y, edge_n_pixels_x, 3)\n",
    "input_shape = (input_edge_y, input_edge_x)\n",
    "basic_index = np.arange(np.prod(dim)).reshape(dim)\n",
    "flat_map = flatten_image(basic_index, input_shape)\n",
    "# rev_flat_map = unflatten_image(basic_index.flatten(), dim, input_shape)"
   ]
  },
  {
   "cell_type": "code",
   "execution_count": 7,
   "metadata": {},
   "outputs": [],
   "source": [
    "def connect_next_nearest_neighbors(connect_dict):\n",
    "    keys = list(connect_dict.keys())\n",
    "    for key, val in connect_dict.items():\n",
    "        unit_count, input_size, hidden_size,\\\n",
    "        output_size, fedfromlist, latsuplist = val\n",
    "        _, lvl_str, x_str, y_str = key.split('_')\n",
    "        x = int(x_str)\n",
    "        y = int(y_str)\n",
    "        # potential next nearest neighbor to north\n",
    "        p_nnn_N = '_'.join([_, lvl_str, x_str, str(y + 2)])\n",
    "        # potential next nearest neighbor to south\n",
    "        p_nnn_S = '_'.join([_, lvl_str, x_str, str(y - 2)])\n",
    "        # potential next nearest neighbor to west\n",
    "        p_nnn_W = '_'.join([_, lvl_str, str(x - 2), y_str])\n",
    "        # potential next nearest neighbor to east\n",
    "        p_nnn_E = '_'.join([_, lvl_str, str(x + 2), y_str])\n",
    "        # potential next nearest neighbor to south west\n",
    "        p_nnn_SW = '_'.join([_, lvl_str, str(x - 1), str(y - 1)])\n",
    "        # potential next nearest neighbor to south east\n",
    "        p_nnn_SE = '_'.join([_, lvl_str, str(x + 1), str(y - 1)])\n",
    "        # potential next nearest neighbor to north west\n",
    "        p_nnn_NW = '_'.join([_, lvl_str, str(x - 1), str(y + 1)])\n",
    "        # potential next nearest neighbor to north east\n",
    "        p_nnn_NE = '_'.join([_, lvl_str, str(x + 1), str(y + 1)])\n",
    "        \n",
    "        p_nnn_list = [p_nnn_N,\n",
    "                      p_nnn_S,\n",
    "                      p_nnn_W,\n",
    "                      p_nnn_E,\n",
    "                      p_nnn_SW,\n",
    "                      p_nnn_SE,\n",
    "                      p_nnn_NW,\n",
    "                      p_nnn_NE]\n",
    "        for p_nnn in p_nnn_list:\n",
    "            if p_nnn in keys:\n",
    "                latsuplist.append(p_nnn)\n",
    "        connect_dict[key] = (unit_count, input_size, hidden_size,\n",
    "                             output_size, fedfromlist, latsuplist)\n",
    "    return connect_dict"
   ]
  },
  {
   "cell_type": "code",
   "execution_count": 8,
   "metadata": {},
   "outputs": [],
   "source": [
    "connect_dict = connect_next_nearest_neighbors(connect_dict)"
   ]
  },
  {
   "cell_type": "code",
   "execution_count": 9,
   "metadata": {},
   "outputs": [],
   "source": [
    "path = '/media/sdb/'#'~/Downloads/' # press tab for autocomplete results\n",
    "train_filename = path + 'PVM_train_set_96h_by_128w.hdf5' \n",
    "#'PVM_movement_integration_train_set_96h_by_128w_no_position.hdf5'\n",
    "# test_filename = path + 'PVM_test_set.hdf5'\n",
    "\n",
    "train_data = h5py.File(train_filename, 'r')\n",
    "# test_data_reformat_nontracker =  h5py.File(test_filename, 'r')"
   ]
  },
  {
   "cell_type": "code",
   "execution_count": 10,
   "metadata": {},
   "outputs": [],
   "source": [
    "pvm = OnTheFlyPVM(connect_dict, flat_map, norm=255.)"
   ]
  },
  {
   "cell_type": "code",
   "execution_count": 11,
   "metadata": {},
   "outputs": [],
   "source": [
    "fname = '/home/mhazoglou/PVM_PyCUDA/MotionIntegration/model_for_transfer_learning_exp1_plus_NNN_hidden_size_5_3000000steps_0.01'"
   ]
  },
  {
   "cell_type": "code",
   "execution_count": 12,
   "metadata": {},
   "outputs": [
    {
     "ename": "FileNotFoundError",
     "evalue": "[Errno 2] No such file or directory: '/home/mhazoglou/PVM_PyCUDA/MotionIntegration/model_for_transfer_learning_exp1_plus_NNN_hidden_size_10_3000000steps_0.01_connections.pkl'",
     "output_type": "error",
     "traceback": [
      "\u001b[0;31m---------------------------------------------------------------------------\u001b[0m",
      "\u001b[0;31mFileNotFoundError\u001b[0m                         Traceback (most recent call last)",
      "\u001b[0;32m<ipython-input-12-6322fb25cc96>\u001b[0m in \u001b[0;36m<module>\u001b[0;34m()\u001b[0m\n\u001b[0;32m----> 1\u001b[0;31m \u001b[0mpvm\u001b[0m\u001b[0;34m.\u001b[0m\u001b[0mload_parameters\u001b[0m\u001b[0;34m(\u001b[0m\u001b[0mfname\u001b[0m\u001b[0;34m)\u001b[0m\u001b[0;34m\u001b[0m\u001b[0m\n\u001b[0m",
      "\u001b[0;32m~/PVM_PyCUDA/PVM_PyCUDA.py\u001b[0m in \u001b[0;36mload_parameters\u001b[0;34m(self, filename)\u001b[0m\n\u001b[1;32m    867\u001b[0m \u001b[0;34m\u001b[0m\u001b[0m\n\u001b[1;32m    868\u001b[0m     \u001b[0;32mdef\u001b[0m \u001b[0mload_parameters\u001b[0m\u001b[0;34m(\u001b[0m\u001b[0mself\u001b[0m\u001b[0;34m,\u001b[0m \u001b[0mfilename\u001b[0m\u001b[0;34m)\u001b[0m\u001b[0;34m:\u001b[0m\u001b[0;34m\u001b[0m\u001b[0m\n\u001b[0;32m--> 869\u001b[0;31m         \u001b[0;32mwith\u001b[0m \u001b[0mopen\u001b[0m\u001b[0;34m(\u001b[0m\u001b[0mfilename\u001b[0m \u001b[0;34m+\u001b[0m \u001b[0;34m'_connections.pkl'\u001b[0m\u001b[0;34m,\u001b[0m \u001b[0;34m'rb'\u001b[0m\u001b[0;34m)\u001b[0m \u001b[0;32mas\u001b[0m \u001b[0mfid\u001b[0m\u001b[0;34m:\u001b[0m\u001b[0;34m\u001b[0m\u001b[0m\n\u001b[0m\u001b[1;32m    870\u001b[0m             \u001b[0mshould_be_connect_dict\u001b[0m \u001b[0;34m=\u001b[0m \u001b[0mcP\u001b[0m\u001b[0;34m.\u001b[0m\u001b[0mload\u001b[0m\u001b[0;34m(\u001b[0m\u001b[0mfid\u001b[0m\u001b[0;34m)\u001b[0m\u001b[0;34m\u001b[0m\u001b[0m\n\u001b[1;32m    871\u001b[0m         \u001b[0;32mif\u001b[0m \u001b[0mself\u001b[0m\u001b[0;34m.\u001b[0m\u001b[0mconnect_dict\u001b[0m \u001b[0;34m!=\u001b[0m \u001b[0mdict\u001b[0m\u001b[0;34m(\u001b[0m\u001b[0mshould_be_connect_dict\u001b[0m\u001b[0;34m)\u001b[0m\u001b[0;34m:\u001b[0m\u001b[0;34m\u001b[0m\u001b[0m\n",
      "\u001b[0;31mFileNotFoundError\u001b[0m: [Errno 2] No such file or directory: '/home/mhazoglou/PVM_PyCUDA/MotionIntegration/model_for_transfer_learning_exp1_plus_NNN_hidden_size_10_3000000steps_0.01_connections.pkl'"
     ]
    }
   ],
   "source": [
    "pvm.load_parameters(fname)"
   ]
  },
  {
   "cell_type": "code",
   "execution_count": null,
   "metadata": {},
   "outputs": [
    {
     "name": "stdout",
     "output_type": "stream",
     "text": [
      "--------------------------------------------------------------------------------\n",
      "                   AVG MSE over last 100000 frames\n"
     ]
    }
   ],
   "source": [
    "learning_rate_list = [0.01] * 3000000\n",
    "pvm.train(train_data, learning_rate_list, print_every=100000,\n",
    "          save_every_print=True, filename=fname, interval= 100000)"
   ]
  },
  {
   "cell_type": "code",
   "execution_count": null,
   "metadata": {},
   "outputs": [],
   "source": [
    "pvm.save_mse(fname)                                                                                                                        "
   ]
  },
  {
   "cell_type": "code",
   "execution_count": 11,
   "metadata": {},
   "outputs": [
    {
     "name": "stdout",
     "output_type": "stream",
     "text": [
      "--------------------------------------------------------------------------------\n",
      "Animating testing data\n",
      "--------------------------------------------------------------------------------\n",
      "Use a Keyboard interruption to exit early.\n",
      "--------------------------------------------------------------------------------\n"
     ]
    }
   ],
   "source": [
    "pvm.quick_animate(train_data, scale=5)"
   ]
  },
  {
   "cell_type": "code",
   "execution_count": null,
   "metadata": {},
   "outputs": [],
   "source": []
  }
 ],
 "metadata": {
  "kernelspec": {
   "display_name": "Python 3",
   "language": "python",
   "name": "python3"
  },
  "language_info": {
   "codemirror_mode": {
    "name": "ipython",
    "version": 3
   },
   "file_extension": ".py",
   "mimetype": "text/x-python",
   "name": "python",
   "nbconvert_exporter": "python",
   "pygments_lexer": "ipython3",
   "version": "3.6.4"
  }
 },
 "nbformat": 4,
 "nbformat_minor": 2
}
