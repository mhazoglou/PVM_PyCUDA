{
 "cells": [
  {
   "cell_type": "code",
   "execution_count": 1,
   "metadata": {
    "collapsed": true
   },
   "outputs": [],
   "source": [
    "%load_ext autoreload\n",
    "%autoreload 2"
   ]
  },
  {
   "cell_type": "code",
   "execution_count": 2,
   "metadata": {
    "collapsed": true
   },
   "outputs": [],
   "source": [
    "from __future__ import absolute_import, print_function, division\n",
    "from builtins import *\n",
    "import time\n",
    "import math\n",
    "from collections import OrderedDict\n",
    "import numpy as np\n",
    "from pycuda import driver, compiler, gpuarray, tools\n",
    "import os\n",
    "import matplotlib.pyplot as plt\n",
    "import matplotlib.animation as animation"
   ]
  },
  {
   "cell_type": "code",
   "execution_count": 3,
   "metadata": {
    "collapsed": true
   },
   "outputs": [],
   "source": [
    "os.environ['CUDA_DEVICE'] = '1' # pick your device\n",
    "\n",
    "# -- initialize the device\n",
    "import pycuda.autoinit"
   ]
  },
  {
   "cell_type": "code",
   "execution_count": 4,
   "metadata": {
    "collapsed": true
   },
   "outputs": [],
   "source": [
    "n_color = 3\n",
    "input_edge = 2#3#6# \n",
    "input_size = input_edge * input_edge * n_color\n",
    "hidden_size = 8#16#49#\n",
    "output_sizes = [1]*6#[1, 2*2, 4*4, 8*8, 6*6, 16*16]#\n",
    "heat_map_size = 256\n",
    "structure = [16, 8, 4, 3, 2, 1]#[96, 48, 24, 12, 6, 3, 2, 1]#[32, 16, 8, 4, 2, 1]#\n",
    "\n",
    "edge_n_pixels = input_edge*structure[0]\n",
    "heat_map_edge = int(math.sqrt(heat_map_size))"
   ]
  },
  {
   "cell_type": "code",
   "execution_count": 5,
   "metadata": {
    "collapsed": true
   },
   "outputs": [],
   "source": [
    "import re\n",
    "import pandas as pd\n",
    "\n",
    "datapath = '/media/sdb/PVM_trace_set_raw/'\n",
    "filelist = os.listdir(datapath)\n",
    "\n",
    "test_data = {}\n",
    "did_it = []\n",
    "for filename in filelist:\n",
    "    filename_wo_ext = filename.rsplit('.', 1)[0]\n",
    "    if filename_wo_ext not in did_it:\n",
    "        fname = datapath + filename_wo_ext\n",
    "        arr = np.load(fname + '.npy')\n",
    "        df = pd.read_csv(fname + '.csv')\n",
    "        \n",
    "        test_data[filename_wo_ext] = (arr, df)\n",
    "        did_it.append(filename_wo_ext)"
   ]
  },
  {
   "cell_type": "code",
   "execution_count": 6,
   "metadata": {
    "collapsed": true
   },
   "outputs": [],
   "source": [
    "from FormattingFiles import norm_and_heatmap, unflatten_image\n",
    "from RectangularGridConstructor import shape_check"
   ]
  },
  {
   "cell_type": "code",
   "execution_count": 7,
   "metadata": {
    "collapsed": true
   },
   "outputs": [],
   "source": [
    "heat_map_edges = (heat_map_edge, heat_map_edge)\n",
    "input_layer_dim = (edge_n_pixels, edge_n_pixels)\n",
    "test_data_reformat = {}\n",
    "for key, data_and_label in test_data.items():\n",
    "    data_arr, df = data_and_label\n",
    "    \n",
    "    rescale_arr, ground_truth_heat_map_list = norm_and_heatmap(data_arr, df, heat_map_edges,\n",
    "                                                               input_layer_dim, norm=255.)\n",
    "\n",
    "    test_data_reformat[key] = (rescale_arr, ground_truth_heat_map_list)\n",
    "del test_data"
   ]
  },
  {
   "cell_type": "code",
   "execution_count": 117,
   "metadata": {
    "collapsed": true
   },
   "outputs": [],
   "source": [
    "import PVM_PyCUDA\n",
    "from RectangularGridConstructor import make_connections"
   ]
  },
  {
   "cell_type": "code",
   "execution_count": 15,
   "metadata": {
    "collapsed": true
   },
   "outputs": [],
   "source": [
    "connect_dict = make_connections(structure, input_size, hidden_size, output_sizes, context_from_top_0_0=True)"
   ]
  },
  {
   "cell_type": "code",
   "execution_count": 118,
   "metadata": {
    "collapsed": true
   },
   "outputs": [],
   "source": [
    "saccadePVM = PVM_PyCUDA.PinholeSaccadicPVM(connect_dict, (input_edge, input_edge), (edge_n_pixels, edge_n_pixels, 3),\n",
    "                                           x_w=1, y_w=1, omega=0.8, gamma=0.9)"
   ]
  },
  {
   "cell_type": "code",
   "execution_count": 119,
   "metadata": {
    "collapsed": true
   },
   "outputs": [],
   "source": [
    "fname = './SaccadeFullSetTraining/structure_16_8_4_3_2_1_input_32_by_32_pvm_unit_in_2_by_2_learning_rate_0.01_hidden_8_3000000steps'\n",
    "saccadePVM.load_parameters(fname)"
   ]
  },
  {
   "cell_type": "code",
   "execution_count": 142,
   "metadata": {},
   "outputs": [],
   "source": [
    "%matplotlib tk\n",
    "\n",
    "# for the differential equation x'' + 2 * gamma * omega * x' + omega**2 (x - x^{eq}) = 0\n",
    "\n",
    "fig = plt.figure(figsize=(15, 5))\n",
    "ax1 = fig.add_subplot(131)\n",
    "ax2 = fig.add_subplot(132)\n",
    "ax3 = fig.add_subplot(133)\n",
    "# ax4 = fig.add_subplot(224)\n",
    "\n",
    "dim = (edge_n_pixels, edge_n_pixels, n_color)\n",
    "tot_size = np.prod(dim)\n",
    "unflattened_idx_array = unflatten_image(np.arange(tot_size), \n",
    "                                        dim, \n",
    "                                        (input_edge, input_edge))\n",
    "\n",
    "# def window_sum(arr, width, height):\n",
    "#     N_rows, N_cols, n_colors = arr.shape\n",
    "#     N_s_row = N_rows - height + 1\n",
    "#     N_s_col = N_cols - width + 1\n",
    "#     summed_arr = np.zeros((N_s_row, N_s_col))\n",
    "#     for row in xrange(N_s_row):\n",
    "#         for col in xrange(N_s_col):\n",
    "#             summed_arr[row, col] = np.sum(arr[row:row + height,\n",
    "#                                               col:col + width, :])\n",
    "#     return summed_arr\n",
    "L_y = saccadePVM.sub_frame_height\n",
    "L_x  = saccadePVM.sub_frame_width\n",
    "\n",
    "def gen_func():\n",
    "    global test_data_reformat, saccadePVM\n",
    "    for key, data in test_data_reformat.items():\n",
    "        rescale_arr, ground_truth_heat_map_list = data\n",
    "        n_frame, height, width, n_colors = rescale_arr.shape\n",
    "        \n",
    "#         saccadePVM.reset_state(x_pos=(width - saccadePVM.sub_frame_width) // 2,\n",
    "#                                y_pos=(height - saccadePVM.sub_frame_height) // 2)\n",
    "        for i in range(n_frame):\n",
    "            image = rescale_arr[i, ...]\n",
    "            saccadePVM.forward(image)\n",
    "            yield image, saccadePVM.pred[:saccadePVM.L_input].get(),\\\n",
    "                saccadePVM.err[:saccadePVM.L_input].get(), saccadePVM.x,\\\n",
    "                saccadePVM.y\n",
    "                \n",
    "def update(vals):\n",
    "    global L_y, L_x\n",
    "    image, pred, err, x, y = vals\n",
    "    reordered_err = err[unflattened_idx_array]\n",
    "    mag_err = abs(reordered_err - 0.5)\n",
    "    \n",
    "    im1 = ax1.imshow(image, animated=True)\n",
    "    ln1.set_xdata([x, x])\n",
    "    ln1.set_ydata([y, y + L_y])\n",
    "    ln2.set_xdata([x + L_x, x + L_x])\n",
    "    ln2.set_ydata([y, y + L_y])\n",
    "    ln3.set_xdata([x, x + L_x])\n",
    "    ln3.set_ydata([y, y])\n",
    "    ln4.set_xdata([x, x + L_x])\n",
    "    ln4.set_ydata([y + L_y, y + L_y])\n",
    "        \n",
    "        \n",
    "    im2 = ax2.imshow(pred[unflattened_idx_array], animated=True)\n",
    "\n",
    "    im3 = ax3.imshow(mag_err, animated=True)\n",
    "\n",
    "#     im4 = ax4.imshow(heatmap.reshape(heat_map_edges),\n",
    "#                      vmin=0, vmax=1, cmap='gray', animated=True)\n",
    "    return im1, im2, im3, ln1, ln2, ln3, ln4\n",
    "\n",
    "vals = gen_func().next()\n",
    "image, pred, err, x, y = vals\n",
    "reordered_err = err[unflattened_idx_array]\n",
    "mag_err = abs(reordered_err - 0.5)\n",
    "\n",
    "im1 = ax1.imshow(image, animated=True)\n",
    "ln1, = ax1.plot([x, x], [y, y + L_y], 'r')\n",
    "ln2, = ax1.plot([x + L_x, x + L_x], [y, y + L_y], 'r')\n",
    "ln3, = ax1.plot([x, x + L_x], [y, y], 'r')\n",
    "ln4, = ax1.plot([x, x + L_x], [y + L_y, y + L_y], 'r')\n",
    "\n",
    "\n",
    "\n",
    "im2 = ax2.imshow(pred[unflattened_idx_array], animated=True)\n",
    "\n",
    "im3 = ax3.imshow(mag_err, animated=True)\n",
    "\n",
    "# im4 = ax4.imshow(heatmap.reshape(heat_map_edges),\n",
    "#                  vmin=0, vmax=1, cmap='gray', animated=True)\n",
    "ani = animation.FuncAnimation(fig, update, frames=gen_func,\n",
    "                              interval=5, blit=True, save_count=30*(10*60))\n",
    "\n",
    "# ani.save('PinholeSaccadicPVM_on_Full_test_gamma_0.9_omega_0.8_structure_16_8_4_3_2_1_input_32_by_32_pvm_unit_in_2_by_2_learning_rate_0.01_hidden_8_3000000steps.mp4',\n",
    "#          writer='ffmpeg', fps=30, bitrate=-1,\n",
    "#          extra_args=['-vcodec', 'libx264'])\n",
    "\n",
    "plt.show()"
   ]
  },
  {
   "cell_type": "code",
   "execution_count": 141,
   "metadata": {},
   "outputs": [],
   "source": [
    "saccadePVM.reset_state(x_pos=(96 - saccadePVM.sub_frame_width) // 2,\n",
    "                       y_pos=(96 - saccadePVM.sub_frame_height) // 2)"
   ]
  },
  {
   "cell_type": "code",
   "execution_count": 79,
   "metadata": {},
   "outputs": [
    {
     "data": {
      "text/plain": [
       "-1"
      ]
     },
     "execution_count": 79,
     "metadata": {},
     "output_type": "execute_result"
    }
   ],
   "source": [
    "np.random.randint(-1, 2)"
   ]
  },
  {
   "cell_type": "code",
   "execution_count": 140,
   "metadata": {},
   "outputs": [],
   "source": [
    "x_list = []\n",
    "y_list = []\n",
    "for key, data in test_data_reformat.items():\n",
    "        rescale_arr, ground_truth_heat_map_list = data\n",
    "        n_frame, height, width, n_colors = rescale_arr.shape\n",
    "        \n",
    "#         saccadePVM.reset_state(x_pos=(width - saccadePVM.sub_frame_width) // 2,\n",
    "#                                y_pos=(height - saccadePVM.sub_frame_height) // 2)\n",
    "        for i in range(400):\n",
    "            image = rescale_arr[0, ...]\n",
    "            saccadePVM.forward(image)\n",
    "            x_list.append(saccadePVM.x)\n",
    "            y_list.append(saccadePVM.y)\n",
    "\n",
    "plt.imshow(image)\n",
    "plt.plot(np.array(x_list) + edge_n_pixels // 2, np.array(y_list) + edge_n_pixels // 2, 'r')\n",
    "plt.show()"
   ]
  },
  {
   "cell_type": "code",
   "execution_count": null,
   "metadata": {
    "collapsed": true
   },
   "outputs": [],
   "source": []
  }
 ],
 "metadata": {
  "kernelspec": {
   "display_name": "Python 2",
   "language": "python",
   "name": "python2"
  },
  "language_info": {
   "codemirror_mode": {
    "name": "ipython",
    "version": 2
   },
   "file_extension": ".py",
   "mimetype": "text/x-python",
   "name": "python",
   "nbconvert_exporter": "python",
   "pygments_lexer": "ipython2",
   "version": "2.7.14"
  }
 },
 "nbformat": 4,
 "nbformat_minor": 2
}
