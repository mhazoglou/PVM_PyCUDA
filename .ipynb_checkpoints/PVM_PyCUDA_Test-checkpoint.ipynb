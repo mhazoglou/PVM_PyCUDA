{
 "cells": [
  {
   "cell_type": "code",
   "execution_count": 1,
   "metadata": {
    "collapsed": true
   },
   "outputs": [],
   "source": [
    "from __future__ import absolute_import, print_function, division\n",
    "from builtins import *\n",
    "import time\n",
    "import math\n",
    "from collections import OrderedDict\n",
    "import numpy as np\n",
    "from pycuda import driver, compiler, gpuarray, tools\n",
    "import os\n",
    "import matplotlib.pyplot as plt\n",
    "\n",
    "\n",
    "os.environ['CUDA_DEVICE'] = '1' # pick your device\n",
    "\n",
    "# -- initialize the device\n",
    "import pycuda.autoinit"
   ]
  },
  {
   "cell_type": "code",
   "execution_count": 2,
   "metadata": {
    "collapsed": true
   },
   "outputs": [],
   "source": [
    "import re\n",
    "import pandas as pd\n",
    "\n",
    "datapath = '/media/sdb/green_ball/'\n",
    "filelist = os.listdir(datapath)\n",
    "\n",
    "nparrayfile = re.compile('(.+?)\\.npy')\n",
    "csvfile = re.compile('(.+?)\\.csv')\n",
    "testfile_exp = re.compile('.+?test.+?')\n",
    "\n",
    "test_data = {}\n",
    "train_data = {}\n",
    "did_it = []\n",
    "for filename in filelist:\n",
    "    filename_wo_ext = filename.rsplit('.', 1)[0]\n",
    "    if filename_wo_ext not in did_it:\n",
    "        fname = datapath + filename_wo_ext\n",
    "        arr = np.load(fname + '.npy')\n",
    "        df = pd.read_csv(fname + '.csv')\n",
    "\n",
    "        if testfile_exp.match(filename) is None:\n",
    "            train_data[filename_wo_ext] = (arr, df)\n",
    "        else:\n",
    "            test_data[filename_wo_ext] = (arr, df)\n",
    "        did_it.append(filename_wo_ext)"
   ]
  },
  {
   "cell_type": "code",
   "execution_count": 3,
   "metadata": {
    "collapsed": true
   },
   "outputs": [],
   "source": [
    "n_color = 3\n",
    "input_edge = 6\n",
    "input_size = input_edge * input_edge * n_color\n",
    "hidden_size = 49\n",
    "output_sizes = [1, 2*2, 4*4, 8*8, 6*6, 16*16]\n",
    "heat_map_size = 256\n",
    "structure = [16, 8, 4, 3, 2, 1]\n",
    "\n",
    "edge_n_pixels = input_edge*structure[0]\n",
    "heat_map_edge = int(math.sqrt(heat_map_size))"
   ]
  },
  {
   "cell_type": "code",
   "execution_count": 4,
   "metadata": {
    "collapsed": true
   },
   "outputs": [],
   "source": [
    "from FormattingFiles import norm_and_heatmap, unflatten_image\n",
    "from RectangularGridConstructor import shape_check"
   ]
  },
  {
   "cell_type": "code",
   "execution_count": 5,
   "metadata": {
    "collapsed": true
   },
   "outputs": [],
   "source": [
    "heat_map_edges = (heat_map_edge, heat_map_edge)\n",
    "input_layer_dim = (edge_n_pixels, edge_n_pixels)\n",
    "test_data_reformat = {}\n",
    "for key, data_and_label in test_data.items():\n",
    "    data_arr, df = data_and_label\n",
    "    \n",
    "    rescale_arr, ground_truth_heat_map_list = norm_and_heatmap(data_arr, df, heat_map_edges,\n",
    "                                                               input_layer_dim, norm=255.)\n",
    "\n",
    "    test_data_reformat[key] = (rescale_arr, ground_truth_heat_map_list)"
   ]
  },
  {
   "cell_type": "code",
   "execution_count": 6,
   "metadata": {
    "collapsed": true
   },
   "outputs": [],
   "source": [
    "heat_map_edges = (heat_map_edge, heat_map_edge)\n",
    "input_layer_dim = (edge_n_pixels, edge_n_pixels)\n",
    "train_data_reformat = {}\n",
    "train_data_reformat_nontracker = {}\n",
    "for key, data_and_label in train_data.items():\n",
    "    data_arr, df = data_and_label\n",
    "    \n",
    "    rescale_arr, ground_truth_heat_map_list = norm_and_heatmap(data_arr, df, heat_map_edges,\n",
    "                                                               input_layer_dim, norm=255.)\n",
    "\n",
    "    train_data_reformat[key] = (rescale_arr, ground_truth_heat_map_list)\n",
    "    train_data_reformat_nontracker[key] = rescale_arr"
   ]
  },
  {
   "cell_type": "code",
   "execution_count": 7,
   "metadata": {
    "collapsed": true
   },
   "outputs": [],
   "source": [
    "from PVM_PyCUDA import PVM_CUDA, PVMtracker\n",
    "from RectangularGridConstructor import make_connections"
   ]
  },
  {
   "cell_type": "code",
   "execution_count": null,
   "metadata": {
    "collapsed": true
   },
   "outputs": [],
   "source": [
    "connect_dict = make_connections(structure, output_sizes, context_from_top_0_0=True)\n",
    "PVM_raw = PVM_CUDA(connect_dict, input_size, hidden_size)"
   ]
  },
  {
   "cell_type": "code",
   "execution_count": null,
   "metadata": {},
   "outputs": [],
   "source": [
    "learning_rate_list = [.001]*100000\n",
    "PVM_raw.train(train_data_reformat_nontracker, learning_rate_list, print_every=10000,\n",
    "              save_every_print=False, interval=100)"
   ]
  },
  {
   "cell_type": "code",
   "execution_count": null,
   "metadata": {
    "collapsed": true
   },
   "outputs": [],
   "source": [
    "tracker = PVMtracker(structure, output_sizes, heat_map_size, input_size, hidden_size, context_from_top_0_0=False)#True)"
   ]
  },
  {
   "cell_type": "code",
   "execution_count": null,
   "metadata": {
    "collapsed": true
   },
   "outputs": [],
   "source": [
    "resultpath = './GreenBallTraining/'\n",
    "filename = resultpath + 'green_ball_learning_rate_0.01'#'green_ball_training_experiment_after_fixes_1'\n",
    "tracker.load_parameters(filename)"
   ]
  },
  {
   "cell_type": "code",
   "execution_count": null,
   "metadata": {},
   "outputs": [
    {
     "name": "stdout",
     "output_type": "stream",
     "text": [
      "     10000 frames: 0.012941593932\n",
      "     20000 frames: 0.00792697420346\n",
      "     30000 frames: 0.00769701766691\n",
      "     40000 frames: 0.00721007245036\n"
     ]
    }
   ],
   "source": [
    "resultpath = './GreenBallTraining/'\n",
    "filename = resultpath + 'green_ball_learning_rate_0.01'\n",
    "learning_rate_list = [.01]*500000\n",
    "tracker.train(train_data_reformat, learning_rate_list, print_every=10000,\n",
    "              save_every_print=True, filename=filename, interval=10000)\n",
    "tracker.save_mse(filename)"
   ]
  },
  {
   "cell_type": "code",
   "execution_count": null,
   "metadata": {
    "collapsed": true
   },
   "outputs": [],
   "source": [
    "success_threshold = 0.6\n",
    "precision_threshold = 20 * 16 / 96\n",
    "success_list, precision_list, accuracy_list = tracker.test(test_data_reformat, heat_map_edges, success_threshold,\n",
    "             precision_threshold, accuracy_threshold=1.0)"
   ]
  },
  {
   "cell_type": "code",
   "execution_count": null,
   "metadata": {},
   "outputs": [],
   "source": [
    "np.mean(success_list), np.mean(precision_list), np.mean(accuracy_list)"
   ]
  },
  {
   "cell_type": "code",
   "execution_count": null,
   "metadata": {
    "collapsed": true
   },
   "outputs": [],
   "source": [
    "accuracy_list"
   ]
  },
  {
   "cell_type": "code",
   "execution_count": null,
   "metadata": {
    "collapsed": true
   },
   "outputs": [],
   "source": [
    "doctored_training_data = {}\n",
    "for key, data in test_data_reformat.items():\n",
    "    rescale_arr, ground_truth_heat_map_list = data\n",
    "    nframes = len(ground_truth_heat_map_list)\n",
    "    doctored_arr = np.tile(rescale_arr[0, :], (nframes, 1))\n",
    "    doctored_list = [ground_truth_heat_map_list[0]]*nframes\n",
    "    \n",
    "    doctored_training_data[key] = (doctored_arr, doctored_list)\n",
    "#     flat_image = (256 - (255 * (rescale_arr[0,:])).astype(np.int8))\n",
    "    break\n",
    "\n",
    "    \n",
    "# plt.imshow(unflatten_image(flat_image, (edge_n_pixels, edge_n_pixels, 3), (input_edge, input_edge)))\n",
    "# plt.show()"
   ]
  },
  {
   "cell_type": "code",
   "execution_count": null,
   "metadata": {},
   "outputs": [],
   "source": [
    "for key, data in test_data_reformat.items():\n",
    "    rescale_arr, ground_truth_heat_map_list = data\n",
    "    n_frame = len(ground_truth_heat_map_list)\n",
    "    for i in range(n_frame):\n",
    "        PVM_raw.forward(rescale_arr[i, :])\n",
    "        flat_image = (256 - (255 * (rescale_arr[i,:])).astype(np.int8))\n",
    "    \n",
    "        plt.imshow(unflatten_image(flat_image,\n",
    "                                   (edge_n_pixels,edge_n_pixels, n_color),\n",
    "                                   (input_edge, input_edge)))\n",
    "        plt.show()\n",
    "        \n",
    "        plt.imshow(unflatten_image((256 - (255 * PVM_raw.pred[:PVM_raw.L_input].get()).astype(np.int8)),\n",
    "                                   (edge_n_pixels, edge_n_pixels, n_color),\n",
    "                                   (input_edge, input_edge)))\n",
    "        plt.show()"
   ]
  },
  {
   "cell_type": "code",
   "execution_count": null,
   "metadata": {},
   "outputs": [],
   "source": [
    "for key, data in test_data_reformat.items():\n",
    "    rescale_arr, ground_truth_heat_map_list = data\n",
    "    n_frame = len(ground_truth_heat_map_list)\n",
    "    tracker.reset_state()\n",
    "    for i in range(n_frame):\n",
    "        tracker.forward(rescale_arr[i, :])\n",
    "        flat_image = rescale_arr[i,:]#(256 - (255 * (rescale_arr[i,:])).astype(np.int8))\n",
    "    \n",
    "        plt.imshow(unflatten_image(flat_image,\n",
    "                                   (edge_n_pixels,edge_n_pixels, n_color),\n",
    "                                   (input_edge, input_edge)))\n",
    "        plt.show()\n",
    "        \n",
    "        plt.imshow(unflatten_image(tracker.pred[:tracker.L_input].get(),\n",
    "                                   (edge_n_pixels, edge_n_pixels, n_color),\n",
    "                                   (input_edge, input_edge)))\n",
    "        plt.show()\n",
    "        \n",
    "        plt.imshow(ground_truth_heat_map_list[i].reshape(heat_map_edges), cmap='gray')\n",
    "        plt.show()\n",
    "        \n",
    "        plt.imshow(tracker.avg_heatmap.get().reshape(heat_map_edges), vmin=0, vmax=1, cmap='gray')\n",
    "        plt.show()\n",
    "        break"
   ]
  },
  {
   "cell_type": "code",
   "execution_count": null,
   "metadata": {},
   "outputs": [],
   "source": [
    "tracker.reset_state()\n",
    "for _ in range(10):\n",
    "    tracker.forward(rescale_arr[0, :])\n",
    "    #print(tracker.in_and_hid.get())\n",
    "bbox = tracker.get_bounding_box(heat_map_edges)\n",
    "plt.imshow(bbox.T, cmap='gray')\n",
    "plt.show()"
   ]
  },
  {
   "cell_type": "code",
   "execution_count": null,
   "metadata": {
    "collapsed": true
   },
   "outputs": [],
   "source": [
    "def update_plot():\n",
    "    fig = plt.figure()\n",
    "    fig.subplot(221)\n",
    "    \n",
    "    fig.subplot(222)\n",
    "    \n",
    "    fig.subplot(223)\n",
    "    \n",
    "    fig.subplot(224)\n",
    "    \n",
    "def gen_function():\n",
    "    for key, data in test_data_reformat.items():\n",
    "        rescale_arr, ground_truth_heat_map_list = data\n",
    "        n_frame = len(ground_truth_heat_map_list)\n",
    "        tracker.reset_state()\n",
    "        for i in range(n_frame):\n",
    "            yield rescale_arr[i, :], ground_truth_heat_map_list[i]"
   ]
  },
  {
   "cell_type": "code",
   "execution_count": null,
   "metadata": {},
   "outputs": [],
   "source": [
    "plt.imshow(tracker.avg_heatmap.get().reshape(heat_map_edges).T, cmap='gray')\n",
    "plt.show()"
   ]
  },
  {
   "cell_type": "code",
   "execution_count": null,
   "metadata": {},
   "outputs": [],
   "source": [
    "plt.imshow(unflatten_image((256 - (255 * tracker.pred.get()).astype(np.int8)), (edge_n_pixels, edge_n_pixels, 3), (input_edge, input_edge)))\n",
    "plt.show()"
   ]
  },
  {
   "cell_type": "code",
   "execution_count": null,
   "metadata": {
    "collapsed": true
   },
   "outputs": [],
   "source": [
    "len(tracker.pred), tracker.L_input"
   ]
  },
  {
   "cell_type": "code",
   "execution_count": null,
   "metadata": {
    "collapsed": true
   },
   "outputs": [],
   "source": [
    "tracker.pred[tracker.L_input:tracker.L_pred]"
   ]
  },
  {
   "cell_type": "code",
   "execution_count": null,
   "metadata": {
    "collapsed": true
   },
   "outputs": [],
   "source": [
    "tracker.ideal_pred"
   ]
  },
  {
   "cell_type": "code",
   "execution_count": null,
   "metadata": {},
   "outputs": [],
   "source": [
    "plt.imshow(ground_truth_heat_map_list[0].reshape(heat_map_edges).T, cmap='gray')\n",
    "plt.show()"
   ]
  },
  {
   "cell_type": "code",
   "execution_count": null,
   "metadata": {
    "collapsed": true
   },
   "outputs": [],
   "source": [
    "peak % 16"
   ]
  },
  {
   "cell_type": "code",
   "execution_count": null,
   "metadata": {
    "collapsed": true
   },
   "outputs": [],
   "source": [
    "peak // 16"
   ]
  },
  {
   "cell_type": "code",
   "execution_count": null,
   "metadata": {
    "collapsed": true
   },
   "outputs": [],
   "source": [
    "import cPickle as cP\n",
    "\n",
    "with open('./GreenBallTraining/green_ball_training_experiment_after_fixes_1_mse_list.pkl', 'rb') as fid:\n",
    "    mse_list = cP.load(fid)"
   ]
  },
  {
   "cell_type": "code",
   "execution_count": null,
   "metadata": {
    "collapsed": true
   },
   "outputs": [],
   "source": [
    "def movingaverage(interval, window_size):\n",
    "    window = np.ones(window_size) / window_size\n",
    "    return np.convolve(interval, window, 'same')"
   ]
  },
  {
   "cell_type": "code",
   "execution_count": null,
   "metadata": {
    "collapsed": true
   },
   "outputs": [],
   "source": [
    "plt.plot(movingaverage(mse_list[:1000000],100000))\n",
    "plt.show()"
   ]
  },
  {
   "cell_type": "code",
   "execution_count": null,
   "metadata": {
    "collapsed": true
   },
   "outputs": [],
   "source": [
    "%matplotlib tk"
   ]
  },
  {
   "cell_type": "code",
   "execution_count": null,
   "metadata": {
    "collapsed": true
   },
   "outputs": [],
   "source": []
  }
 ],
 "metadata": {
  "kernelspec": {
   "display_name": "Python 2",
   "language": "python",
   "name": "python2"
  },
  "language_info": {
   "codemirror_mode": {
    "name": "ipython",
    "version": 2
   },
   "file_extension": ".py",
   "mimetype": "text/x-python",
   "name": "python",
   "nbconvert_exporter": "python",
   "pygments_lexer": "ipython2",
   "version": "2.7.13"
  }
 },
 "nbformat": 4,
 "nbformat_minor": 2
}
