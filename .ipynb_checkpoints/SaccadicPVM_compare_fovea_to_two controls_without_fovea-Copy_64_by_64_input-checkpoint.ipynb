{
 "cells": [
  {
   "cell_type": "code",
   "execution_count": 1,
   "metadata": {
    "collapsed": true
   },
   "outputs": [],
   "source": [
    "%load_ext autoreload\n",
    "%autoreload 2"
   ]
  },
  {
   "cell_type": "code",
   "execution_count": 2,
   "metadata": {
    "collapsed": true
   },
   "outputs": [],
   "source": [
    "from __future__ import absolute_import, print_function, division\n",
    "from builtins import *\n",
    "import time\n",
    "import math\n",
    "from collections import OrderedDict\n",
    "import numpy as np\n",
    "from pycuda import driver, compiler, gpuarray, tools\n",
    "import os\n",
    "import matplotlib.pyplot as plt\n",
    "import matplotlib.animation as animation\n",
    "import h5py"
   ]
  },
  {
   "cell_type": "code",
   "execution_count": 3,
   "metadata": {
    "collapsed": true
   },
   "outputs": [],
   "source": [
    "os.environ['CUDA_DEVICE'] = '1' # pick your device\n",
    "\n",
    "# -- initialize the device\n",
    "import pycuda.autoinit"
   ]
  },
  {
   "cell_type": "code",
   "execution_count": 4,
   "metadata": {
    "collapsed": true
   },
   "outputs": [],
   "source": [
    "n_color = 3\n",
    "input_edge = 2\n",
    "input_size = input_edge * input_edge * n_color\n",
    "hidden_size = 8\n",
    "inner_hidden_size = 8\n",
    "output_sizes = [1]*6\n",
    "inner_output_size = 1\n",
    "structure = [16, 8, 4, 3, 2, 1]\n",
    "\n",
    "break_start = 4\n",
    "break_end = 13\n",
    "\n",
    "eagle_start = 0#4#\n",
    "eagle_end  = 16#13#\n",
    "\n",
    "edge_n_pixels = input_edge*structure[0]"
   ]
  },
  {
   "cell_type": "code",
   "execution_count": 5,
   "metadata": {},
   "outputs": [],
   "source": [
    "test_data_reformat_nontracker =  h5py.File('/media/sdb/720p_rescaled_to_99_by_176_formatted_testing.hdf5', 'r')\n",
    "test_data_entropy = h5py.File('/media/sdb/entropy_720p_rescaled_to_99_by_176_formatted_testing.hdf5', 'r')"
   ]
  },
  {
   "cell_type": "code",
   "execution_count": 6,
   "metadata": {
    "collapsed": true
   },
   "outputs": [],
   "source": [
    "from FormattingFiles import norm_and_heatmap, flatten_image, unflatten_image\n",
    "from RectangularGridConstructor import shape_check, make_connections, break_stuff"
   ]
  },
  {
   "cell_type": "code",
   "execution_count": 7,
   "metadata": {
    "collapsed": true
   },
   "outputs": [],
   "source": [
    "import PVM_PyCUDA"
   ]
  },
  {
   "cell_type": "code",
   "execution_count": 8,
   "metadata": {
    "collapsed": true
   },
   "outputs": [],
   "source": [
    "connect_dict = make_connections(structure, input_size, hidden_size, output_sizes, context_from_top_0_0=True)\n",
    "break_unit_list = []\n",
    "for x in range(break_start, break_end):\n",
    "    for y in range(break_start, break_end):\n",
    "        break_unit_list.append('_0_{}_{}'.format(x, y))\n",
    "connect_dict_fovea = break_stuff(connect_dict, break_unit_list, (input_edge, input_edge), inner_hidden_size,\n",
    "                                 inner_output_size)\n",
    "\n",
    "eagle_unit_list = []\n",
    "for x in range(eagle_start, eagle_end):\n",
    "    for y in range(eagle_start, eagle_end):\n",
    "        eagle_unit_list.append('_0_{}_{}'.format(x, y))\n",
    "connect_dict_eagle = break_stuff(connect_dict, eagle_unit_list, (input_edge, input_edge), inner_hidden_size,\n",
    "                                 inner_output_size)"
   ]
  },
  {
   "cell_type": "code",
   "execution_count": 9,
   "metadata": {
    "collapsed": true
   },
   "outputs": [],
   "source": [
    "# dim is a tuple (height, width, number of colors)\n",
    "dim = (edge_n_pixels, edge_n_pixels, 3)\n",
    "input_shape = (input_edge, input_edge)\n",
    "basic_index = np.arange(np.prod(dim)).reshape(dim)\n",
    "flat_map = flatten_image(basic_index, input_shape)\n",
    "rev_flat_map = unflatten_image(basic_index.flatten(), dim, input_shape)"
   ]
  },
  {
   "cell_type": "code",
   "execution_count": 10,
   "metadata": {
    "collapsed": true
   },
   "outputs": [],
   "source": [
    "base_model = PVM_PyCUDA.PinholeSaccadicPVM(connect_dict, flat_map, rev_flat_map, dim,\n",
    "                                           x_w=1, y_w=1, omega=0.8, gamma=0.9, norm=255.)\n",
    "\n",
    "fovea_model = PVM_PyCUDA.PinholeSaccadicPVM(connect_dict_fovea, flat_map, rev_flat_map, dim,\n",
    "                                            x_w=1, y_w=1, omega=0.8, gamma=0.9, norm=255.)\n",
    "\n",
    "eagle_model = PVM_PyCUDA.PinholeSaccadicPVM(connect_dict_eagle, flat_map, rev_flat_map, dim,\n",
    "                                            x_w=1, y_w=1, omega=0.8, gamma=0.9, norm=255.)"
   ]
  },
  {
   "cell_type": "code",
   "execution_count": 11,
   "metadata": {
    "collapsed": true
   },
   "outputs": [],
   "source": [
    "base_model.load_parameters('./SaccadeFullSetTraining/structure_16_8_4_3_2_1_input_32_by_32_pvm_unit_in_2_by_2_learning_rate_0.01_hidden_8_3000000steps')\n",
    "fovea_model.load_parameters('./SaccadeFullSetTraining/break_test_3000000')\n",
    "eagle_model.load_parameters('./SaccadeFullSetTraining/Eagle_eyes_3000000')"
   ]
  },
  {
   "cell_type": "code",
   "execution_count": 14,
   "metadata": {},
   "outputs": [
    {
     "name": "stdout",
     "output_type": "stream",
     "text": [
      "375.805970299 410.224472651 364.94750251\n",
      "380.916852319 405.354222113 358.158765649\n",
      "375.265933105 410.424020079 364.615866715\n",
      "385.671263947 410.259319298 362.867982267\n",
      "1 loop, best of 3: 1min 44s per loop\n"
     ]
    }
   ],
   "source": [
    "%%timeit\n",
    "L_y = edge_n_pixels\n",
    "L_x  = edge_n_pixels\n",
    "base_ent_list = []\n",
    "fovea_ent_list = []\n",
    "eagle_ent_list = []\n",
    "for key, arr in test_data_reformat_nontracker.iteritems():\n",
    "        n_frame, height, width, n_colors = arr.shape\n",
    "        \n",
    "        base_model.reset_state(x_pos=(width - L_x) // 2,\n",
    "                               y_pos=(height - L_y) // 2)\n",
    "        \n",
    "        fovea_model.reset_state(x_pos=(width - L_x) // 2,\n",
    "                                y_pos=(height - L_y) // 2)\n",
    "        \n",
    "        eagle_model.reset_state(x_pos=(width - L_x) // 2,\n",
    "                                y_pos=(height - L_y) // 2)\n",
    "        for i in range(n_frame):\n",
    "            image = arr[i, ...]\n",
    "            entropy = test_data_entropy[key][i, ...]\n",
    "            base_model.forward(image)\n",
    "            fovea_model.forward(image)\n",
    "            eagle_model.forward(image)\n",
    "            base_x = base_model.x\n",
    "            base_y = base_model.y\n",
    "            \n",
    "            fovea_x = fovea_model.x\n",
    "            fovea_y = fovea_model.y\n",
    "            \n",
    "            eagle_x = eagle_model.x\n",
    "            eagle_y = eagle_model.y\n",
    "            \n",
    "            base_ent = sum(entropy[base_y:base_y + L_y, base_x:base_x + L_x])\n",
    "            fovea_ent = sum(entropy[fovea_y:fovea_y + L_y, fovea_x:fovea_x + L_x])\n",
    "            eagle_ent = sum(entropy[eagle_y:eagle_y + L_y, eagle_x:eagle_x + L_x])\n",
    "            \n",
    "            base_ent_list.append(base_ent)\n",
    "            fovea_ent_list.append(fovea_ent)\n",
    "            eagle_ent_list.append(eagle_ent)\n",
    "            \n",
    "print(np.mean(base_ent_list), np.mean(fovea_ent_list), np.mean(eagle_ent_list))"
   ]
  },
  {
   "cell_type": "code",
   "execution_count": null,
   "metadata": {
    "collapsed": true
   },
   "outputs": [],
   "source": [
    "# These were done with square morphology (edge 32) for local entropy calc \n",
    "print(457.734144025, 514.457742716, 466.06692023)\n",
    "print(457.87269369, 499.946027518, 442.839260287)\n",
    "print(450.661727951, 488.266095194, 458.942249495)\n",
    "print(446.006338387, 501.914233905, 453.154849719)\n",
    "print(445.319709246, 493.203220155, 468.179203982)\n",
    "print(440.529224166, 513.895023955, 470.877930557)\n",
    "print(455.446137285, 506.290466136, 463.326171242)"
   ]
  },
  {
   "cell_type": "code",
   "execution_count": 13,
   "metadata": {
    "collapsed": true
   },
   "outputs": [],
   "source": [
    "%matplotlib tk\n",
    "\n",
    "# for the differential equation x'' + 2 * gamma * omega * x' + omega**2 (x - x^{eq}) = 0\n",
    "\n",
    "fig = plt.figure(figsize=(15, 15))\n",
    "ax1 = fig.add_subplot(331)\n",
    "ax2 = fig.add_subplot(332)\n",
    "ax3 = fig.add_subplot(333)\n",
    "ax4 = fig.add_subplot(334)\n",
    "ax5 = fig.add_subplot(335)\n",
    "ax6 = fig.add_subplot(336)\n",
    "\n",
    "ax8 = fig.add_subplot(338)\n",
    "ax9 = fig.add_subplot(339)\n",
    "\n",
    "unflattened_idx_array = rev_flat_map # not a copy\n",
    "\n",
    "# def window_sum(arr, width, height):\n",
    "#     N_rows, N_cols, n_colors = arr.shape\n",
    "#     N_s_row = N_rows - height + 1\n",
    "#     N_s_col = N_cols - width + 1\n",
    "#     summed_arr = np.zeros((N_s_row, N_s_col))\n",
    "#     for row in xrange(N_s_row):\n",
    "#         for col in xrange(N_s_col):\n",
    "#             summed_arr[row, col] = np.sum(arr[row:row + height,\n",
    "#                                               col:col + width, :])\n",
    "#     return summed_arr\n",
    "L_y = edge_n_pixels\n",
    "L_x  = edge_n_pixels\n",
    "\n",
    "def gen_func():\n",
    "    global L_y, L_x, test_data_reformat_nontracker, test_data_entropy\n",
    "    global base_model, fovea_model, eagle_model\n",
    "    for key, rescale_arr in test_data_reformat_nontracker.iteritems():\n",
    "        n_frame, height, width, n_colors = rescale_arr.shape\n",
    "        \n",
    "        base_model.reset_state(x_pos=(width - L_x) // 2,\n",
    "                               y_pos=(height - L_y) // 2)\n",
    "        \n",
    "        fovea_model.reset_state(x_pos=(width - L_x) // 2,\n",
    "                                y_pos=(height - L_y) // 2)\n",
    "        \n",
    "        eagle_model.reset_state(x_pos=(width - L_x) // 2,\n",
    "                                y_pos=(height - L_y) // 2)\n",
    "        for i in range(n_frame):\n",
    "            image = rescale_arr[i, ...]\n",
    "            entropy = test_data_entropy[key][i, ...]\n",
    "            base_model.forward(image)\n",
    "            fovea_model.forward(image)\n",
    "            eagle_model.forward(image)\n",
    "            base_pred = base_model.pred[:base_model.L_input].get()\n",
    "            base_err = base_model.err[:base_model.L_input].get()\n",
    "            base_x = base_model.x\n",
    "            base_y = base_model.y\n",
    "            \n",
    "            fovea_pred = fovea_model.pred[:fovea_model.L_input].get()\n",
    "            fovea_err = fovea_model.err[:fovea_model.L_input].get()\n",
    "            fovea_x = fovea_model.x\n",
    "            fovea_y = fovea_model.y\n",
    "            \n",
    "            eagle_pred = eagle_model.pred[:eagle_model.L_input].get()\n",
    "            eagle_err = eagle_model.err[:eagle_model.L_input].get()\n",
    "            eagle_x = eagle_model.x\n",
    "            eagle_y = eagle_model.y\n",
    "            \n",
    "            base_pack = (base_pred, base_err, base_x, base_y)\n",
    "            fovea_pack = (fovea_pred, fovea_err, fovea_x, fovea_y)\n",
    "            eagle_pack = (eagle_pred, eagle_err, eagle_x, eagle_y)\n",
    "            yield image, entropy, base_pack, fovea_pack, eagle_pack\n",
    "                \n",
    "def update(vals):\n",
    "    global L_y, L_x\n",
    "    image, entropy, base_pack, fovea_pack, eagle_pack = vals\n",
    "    base_pred, base_err, base_x, base_y = base_pack\n",
    "    fovea_pred, fovea_err, fovea_x, fovea_y = fovea_pack\n",
    "    eagle_pred, eagle_err, eagle_x, eagle_y = eagle_pack\n",
    "    reordered_base_err = base_err[unflattened_idx_array]\n",
    "    mag_base_err = abs(reordered_base_err - 0.5)\n",
    "    reordered_fovea_err = fovea_err[unflattened_idx_array]\n",
    "    mag_fovea_err = abs(reordered_fovea_err - 0.5)\n",
    "    reordered_eagle_err = eagle_err[unflattened_idx_array]\n",
    "    mag_eagle_err = abs(reordered_eagle_err - 0.5)\n",
    "    \n",
    "    im1 = ax1.imshow(image, animated=True)\n",
    "    ln1.set_xdata([base_x, base_x])\n",
    "    ln1.set_ydata([base_y, base_y + L_y])\n",
    "    ln2.set_xdata([base_x + L_x, base_x + L_x])\n",
    "    ln2.set_ydata([base_y, base_y + L_y])\n",
    "    ln3.set_xdata([base_x, base_x + L_x])\n",
    "    ln3.set_ydata([base_y, base_y])\n",
    "    ln4.set_xdata([base_x, base_x + L_x])\n",
    "    ln4.set_ydata([base_y + L_y, base_y + L_y])\n",
    "    \n",
    "    ln5.set_xdata([fovea_x, fovea_x])\n",
    "    ln5.set_ydata([fovea_y, fovea_y + L_y])\n",
    "    ln6.set_xdata([fovea_x + L_x, fovea_x + L_x])\n",
    "    ln6.set_ydata([fovea_y, fovea_y + L_y])\n",
    "    ln7.set_xdata([fovea_x, fovea_x + L_x])\n",
    "    ln7.set_ydata([fovea_y, fovea_y])\n",
    "    ln8.set_xdata([fovea_x, fovea_x + L_x])\n",
    "    ln8.set_ydata([fovea_y + L_y, fovea_y + L_y])\n",
    "    \n",
    "    ln9.set_xdata([eagle_x, eagle_x])\n",
    "    ln9.set_ydata([eagle_y, eagle_y + L_y])\n",
    "    ln10.set_xdata([eagle_x + L_x, eagle_x + L_x])\n",
    "    ln10.set_ydata([eagle_y, eagle_y + L_y])\n",
    "    ln11.set_xdata([eagle_x, eagle_x + L_x])\n",
    "    ln11.set_ydata([eagle_y, eagle_y])\n",
    "    ln12.set_xdata([eagle_x, eagle_x + L_x])\n",
    "    ln12.set_ydata([eagle_y + L_y, eagle_y + L_y])\n",
    "        \n",
    "    im2 = ax2.imshow(fovea_pred[unflattened_idx_array], animated=True)\n",
    "\n",
    "    im3 = ax3.imshow(mag_fovea_err, animated=True)\n",
    "    \n",
    "    im4 = ax4.imshow(entropy, cmap='gray', animated=True)\n",
    "    \n",
    "    im5 = ax5.imshow(base_pred[unflattened_idx_array], animated=True)\n",
    "    \n",
    "    im6 = ax6.imshow(mag_base_err, animated=True)\n",
    "    \n",
    "    im8 = ax8.imshow(eagle_pred[unflattened_idx_array], animated=True)\n",
    "    \n",
    "    im9 = ax9.imshow(mag_eagle_err, animated=True)\n",
    "    return im1, im2, im3, im4, im5, im6, im8, im9, ln1, ln2,\\\n",
    "        ln3, ln4, ln5, ln6, ln7, ln8, ln9, ln10, ln11, ln12\n",
    "\n",
    "vals = gen_func().next()\n",
    "image, entropy, base_pack, fovea_pack, eagle_pack = vals\n",
    "base_pred, base_err, base_x, base_y = base_pack\n",
    "fovea_pred, fovea_err, fovea_x, fovea_y = fovea_pack\n",
    "eagle_pred, eagle_err, eagle_x, eagle_y = eagle_pack\n",
    "reordered_base_err = base_err[unflattened_idx_array]\n",
    "mag_base_err = abs(reordered_base_err - 0.5)\n",
    "reordered_fovea_err = fovea_err[unflattened_idx_array]\n",
    "mag_fovea_err = abs(reordered_fovea_err - 0.5)\n",
    "reordered_eagle_err = eagle_err[unflattened_idx_array]\n",
    "mag_eagle_err = abs(reordered_eagle_err - 0.5)\n",
    "\n",
    "im1 = ax1.imshow(image, animated=True)\n",
    "ln1, = ax1.plot([base_x, base_x], [base_y, base_y + L_y], 'b')\n",
    "ln2, = ax1.plot([base_x + L_x, base_x + L_x], [base_y, base_y + L_y], 'b')\n",
    "ln3, = ax1.plot([base_x, base_x + L_x], [base_y, base_y], 'b')\n",
    "ln4, = ax1.plot([base_x, base_x + L_x], [base_y + L_y, base_y + L_y], 'b')\n",
    "\n",
    "ln5, = ax1.plot([fovea_x, fovea_x], [fovea_y, fovea_y + L_y], 'r')\n",
    "ln6, = ax1.plot([fovea_x + L_x, fovea_x + L_x], [fovea_y, fovea_y + L_y], 'r')\n",
    "ln7, = ax1.plot([fovea_x, fovea_x + L_x], [fovea_y, fovea_y], 'r')\n",
    "ln8, = ax1.plot([fovea_x, fovea_x + L_x], [fovea_y + L_y, fovea_y + L_y], 'r')\n",
    "\n",
    "ln9, = ax1.plot([eagle_x, eagle_x], [eagle_y, eagle_y + L_y], 'g')\n",
    "ln10, = ax1.plot([eagle_x + L_x, eagle_x + L_x], [eagle_y, eagle_y + L_y], 'g')\n",
    "ln11, = ax1.plot([eagle_x, eagle_x + L_x], [eagle_y, eagle_y], 'g')\n",
    "ln12, = ax1.plot([eagle_x, eagle_x + L_x], [eagle_y + L_y, eagle_y + L_y], 'g')\n",
    "\n",
    "im2 = ax2.imshow(fovea_pred[unflattened_idx_array], animated=True)\n",
    "\n",
    "im3 = ax3.imshow(mag_fovea_err, animated=True)\n",
    "\n",
    "im4 = ax4.imshow(entropy, cmap='gray', animated=True)\n",
    "\n",
    "im5 = ax5.imshow(base_pred[unflattened_idx_array], animated=True)\n",
    "\n",
    "im6 = ax6.imshow(mag_base_err, animated=True)\n",
    "\n",
    "im8 = ax8.imshow(eagle_pred[unflattened_idx_array], animated=True)\n",
    "\n",
    "im9 = ax9.imshow(mag_eagle_err, animated=True)\n",
    "ani = animation.FuncAnimation(fig, update, frames=gen_func,\n",
    "                              interval=5, blit=True, save_count=30*(10*60))\n",
    "\n",
    "# ani.save('PinholeSaccadicPVM_on_Full_test_gamma_0.9_omega_0.8_structure_16_8_4_3_2_1_input_32_by_32_pvm_unit_in_2_by_2_learning_rate_0.01_hidden_8_3000000steps.mp4',\n",
    "#          writer='ffmpeg', fps=30, bitrate=-1,\n",
    "#          extra_args=['-vcodec', 'libx264'])\n",
    "\n",
    "plt.show()"
   ]
  },
  {
   "cell_type": "code",
   "execution_count": null,
   "metadata": {
    "collapsed": true
   },
   "outputs": [],
   "source": [
    "saccadePVM.input_frame_rev_shuf"
   ]
  },
  {
   "cell_type": "code",
   "execution_count": null,
   "metadata": {
    "collapsed": true
   },
   "outputs": [],
   "source": [
    "saccadePVM.L_input"
   ]
  },
  {
   "cell_type": "code",
   "execution_count": null,
   "metadata": {
    "collapsed": true
   },
   "outputs": [],
   "source": [
    "isinstance(round(1.5), int)"
   ]
  },
  {
   "cell_type": "code",
   "execution_count": null,
   "metadata": {
    "collapsed": true
   },
   "outputs": [],
   "source": [
    "for key, data in train_data_reformat_nontracker.items():\n",
    "    frames, rows, cols, n_colors = data.shape\n",
    "    saccadePVM.reset_state()\n",
    "    for i in range(frames):\n",
    "#         saccadePVM.forward(data[i, ...])\n",
    "        saccadePVM._PinholeSaccadicPVM__backward(data[i, ...], data[i+1, ...], 0.01)\n",
    "        break\n",
    "    break"
   ]
  },
  {
   "cell_type": "code",
   "execution_count": null,
   "metadata": {},
   "outputs": [],
   "source": [
    "learning_rate_list = [.01] * 3000000\n",
    "fname = './SaccadeFullSetTraining/Eagle_eyes_3000000'\n",
    "#'./SaccadeFullSetTraining/structure_16_8_4_3_2_1_input_32_by_32_pvm_unit_in_2_by_2_learning_rate_0.01_hidden_8_3500000steps'\n",
    "#'./FullSetTraining/structure_32_16_8_4_2_1_no_tracking_learning_rate_0.01_hidden_16_1000000steps'\n",
    "#'./GreenBallTraining/no_tracking_green_ball_learning_rate_0.01_hidden_49_5000000steps'\n",
    "saccadePVM.train(train_data_reformat_nontracker, learning_rate_list, print_every=100000,\n",
    "              save_every_print=True, filename=fname, interval=100000)"
   ]
  }
 ],
 "metadata": {
  "kernelspec": {
   "display_name": "Python 2",
   "language": "python",
   "name": "python2"
  },
  "language_info": {
   "codemirror_mode": {
    "name": "ipython",
    "version": 2
   },
   "file_extension": ".py",
   "mimetype": "text/x-python",
   "name": "python",
   "nbconvert_exporter": "python",
   "pygments_lexer": "ipython2",
   "version": "2.7.14"
  }
 },
 "nbformat": 4,
 "nbformat_minor": 2
}
