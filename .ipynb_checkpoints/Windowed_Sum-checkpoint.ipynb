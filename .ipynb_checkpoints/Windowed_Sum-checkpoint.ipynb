{
 "cells": [
  {
   "cell_type": "code",
   "execution_count": 1,
   "metadata": {
    "collapsed": true
   },
   "outputs": [],
   "source": [
    "from __future__ import division\n",
    "import numpy as np\n",
    "import math as mt"
   ]
  },
  {
   "cell_type": "code",
   "execution_count": 2,
   "metadata": {
    "collapsed": true
   },
   "outputs": [],
   "source": [
    "import hypothesis\n",
    "import hypothesis.extra.numpy as exnp\n",
    "\n",
    "ints = hypothesis.strategies.integers"
   ]
  },
  {
   "cell_type": "code",
   "execution_count": 3,
   "metadata": {
    "collapsed": true
   },
   "outputs": [],
   "source": [
    "from scipy.signal import convolve2d"
   ]
  },
  {
   "cell_type": "code",
   "execution_count": 4,
   "metadata": {
    "collapsed": true
   },
   "outputs": [],
   "source": [
    "ceil = lambda x: int(mt.ceil(x))\n",
    "A_width  = np.int32(96)\n",
    "A_height = np.int32(96)\n",
    "n_colors = np.int32(4)\n",
    "threadsize = (32, 32, 1)\n",
    "gridsize   = (ceil(A_height / threadsize[0]),\n",
    "              ceil(A_width / threadsize[1]))\n",
    "width  = np.int32(12)\n",
    "height = np.int32(12)\n",
    "A = np.random.rand(A_height, A_width, n_colors)"
   ]
  },
  {
   "cell_type": "code",
   "execution_count": 5,
   "metadata": {},
   "outputs": [
    {
     "data": {
      "text/plain": [
       "array([[[ 0.50490016,  0.1532264 ,  0.13296041,  0.77174174],\n",
       "        [ 0.80876822,  0.79740471,  0.58503647,  0.06573784],\n",
       "        [ 0.80084655,  0.23364075,  0.20781706,  0.19930884],\n",
       "        ..., \n",
       "        [ 0.36069211,  0.65336994,  0.57583943,  0.66381526],\n",
       "        [ 0.56963463,  0.18200866,  0.16346612,  0.85722959],\n",
       "        [ 0.24283684,  0.38427478,  0.63364021,  0.55025585]],\n",
       "\n",
       "       [[ 0.79030305,  0.64700788,  0.85511186,  0.34606815],\n",
       "        [ 0.99054341,  0.21924827,  0.39612628,  0.83557147],\n",
       "        [ 0.14049903,  0.03831499,  0.33458659,  0.64605624],\n",
       "        ..., \n",
       "        [ 0.03181824,  0.15508416,  0.83168413,  0.33967835],\n",
       "        [ 0.27691261,  0.99985842,  0.97584458,  0.12789647],\n",
       "        [ 0.29880311,  0.80408889,  0.05082089,  0.15331579]],\n",
       "\n",
       "       [[ 0.84531982,  0.7575528 ,  0.47459291,  0.27998257],\n",
       "        [ 0.92544486,  0.54304239,  0.87556837,  0.40468016],\n",
       "        [ 0.14364466,  0.35569597,  0.62649695,  0.46370315],\n",
       "        ..., \n",
       "        [ 0.27154354,  0.34313829,  0.0335288 ,  0.64458733],\n",
       "        [ 0.01375779,  0.92512427,  0.78515158,  0.50732269],\n",
       "        [ 0.05056359,  0.04766449,  0.91268796,  0.82560824]],\n",
       "\n",
       "       ..., \n",
       "       [[ 0.99530853,  0.1128548 ,  0.77135888,  0.68287839],\n",
       "        [ 0.12721865,  0.90230607,  0.38524932,  0.71902693],\n",
       "        [ 0.59618777,  0.68451339,  0.699834  ,  0.14987436],\n",
       "        ..., \n",
       "        [ 0.81215066,  0.2775475 ,  0.08390075,  0.80800102],\n",
       "        [ 0.58060537,  0.32440355,  0.339656  ,  0.83663044],\n",
       "        [ 0.17042204,  0.54275757,  0.51471448,  0.06475169]],\n",
       "\n",
       "       [[ 0.54550167,  0.59737609,  0.74919978,  0.90086427],\n",
       "        [ 0.59292943,  0.24396888,  0.70845964,  0.48351074],\n",
       "        [ 0.71596101,  0.2123073 ,  0.91825881,  0.62271364],\n",
       "        ..., \n",
       "        [ 0.68411343,  0.22161167,  0.42091025,  0.5235111 ],\n",
       "        [ 0.38316513,  0.82720486,  0.63205888,  0.08078061],\n",
       "        [ 0.22248103,  0.18610303,  0.40569716,  0.45244233]],\n",
       "\n",
       "       [[ 0.48423819,  0.52772006,  0.54265617,  0.16469477],\n",
       "        [ 0.88331792,  0.62447954,  0.29176553,  0.98176743],\n",
       "        [ 0.47957101,  0.56405777,  0.75154706,  0.47528245],\n",
       "        ..., \n",
       "        [ 0.09121959,  0.14733868,  0.4985084 ,  0.66586232],\n",
       "        [ 0.33052504,  0.54511654,  0.91542187,  0.12269292],\n",
       "        [ 0.18982928,  0.90726505,  0.61080783,  0.69227997]]])"
      ]
     },
     "execution_count": 5,
     "metadata": {},
     "output_type": "execute_result"
    }
   ],
   "source": [
    "A"
   ]
  },
  {
   "cell_type": "code",
   "execution_count": 6,
   "metadata": {
    "collapsed": true
   },
   "outputs": [],
   "source": [
    "def window_sum(arr, width, height):\n",
    "    N_rows, N_cols, n_colors = arr.shape\n",
    "    N_s_row = N_rows - height + 1\n",
    "    N_s_col = N_cols - width + 1\n",
    "    summed_arr = np.zeros((N_s_row, N_s_col))\n",
    "    for row in xrange(N_s_row):\n",
    "        for col in xrange(N_s_col):\n",
    "            summed_arr[row, col] = np.sum(arr[row:row + height,\n",
    "                                              col:col + width, :])\n",
    "    return summed_arr"
   ]
  },
  {
   "cell_type": "code",
   "execution_count": 7,
   "metadata": {
    "scrolled": true
   },
   "outputs": [
    {
     "name": "stdout",
     "output_type": "stream",
     "text": [
      "CPU times: user 28 ms, sys: 0 ns, total: 28 ms\n",
      "Wall time: 24.3 ms\n"
     ]
    },
    {
     "data": {
      "text/plain": [
       "array([[ 18.19655095,  18.53801089,  17.22211805, ...,  15.34434172,\n",
       "         15.7951354 ,  16.24354756],\n",
       "       [ 18.9694445 ,  18.42494488,  18.13248069, ...,  15.25146199,\n",
       "         16.46753494,  16.87412403],\n",
       "       [ 19.95874352,  18.77396125,  18.5639829 , ...,  16.22849996,\n",
       "         16.65328221,  17.26113356],\n",
       "       ..., \n",
       "       [ 18.38921515,  18.43560307,  17.24424333, ...,  16.64153135,\n",
       "         18.19597682,  18.94562073],\n",
       "       [ 20.39991125,  18.53122672,  17.11428948, ...,  16.09330699,\n",
       "         16.87889331,  15.41988849],\n",
       "       [ 20.88876023,  17.90555119,  16.46644335, ...,  15.38615488,\n",
       "         16.49809484,  16.11248804]])"
      ]
     },
     "execution_count": 7,
     "metadata": {},
     "output_type": "execute_result"
    }
   ],
   "source": [
    "%%time\n",
    "window_sum(A, 3, 3)"
   ]
  },
  {
   "cell_type": "code",
   "execution_count": 8,
   "metadata": {},
   "outputs": [
    {
     "name": "stdout",
     "output_type": "stream",
     "text": [
      "10 loops, best of 3: 41.6 ms per loop\n"
     ]
    }
   ],
   "source": [
    "%%timeit \n",
    "window_sum(A, width, height)"
   ]
  },
  {
   "cell_type": "code",
   "execution_count": 9,
   "metadata": {
    "collapsed": true
   },
   "outputs": [],
   "source": [
    "summed_arr = window_sum(A, width, height)"
   ]
  },
  {
   "cell_type": "code",
   "execution_count": 10,
   "metadata": {},
   "outputs": [
    {
     "data": {
      "text/plain": [
       "array([[ 288.79968015,  288.77304941,  289.82418844, ...,  280.94064331,\n",
       "         286.22223636,  285.07766181],\n",
       "       [ 289.79485622,  289.35293379,  290.13179523, ...,  278.26050429,\n",
       "         284.04752214,  281.20453587],\n",
       "       [ 285.42208022,  286.3415282 ,  288.23642081, ...,  279.66371316,\n",
       "         285.94755009,  283.85670726],\n",
       "       ..., \n",
       "       [ 283.53339422,  287.02431151,  289.58871928, ...,  282.44139853,\n",
       "         283.44773625,  284.09392325],\n",
       "       [ 283.58892768,  287.25306354,  289.16408241, ...,  283.57638817,\n",
       "         284.21286306,  283.57659215],\n",
       "       [ 284.70840362,  287.96150502,  289.17425471, ...,  286.23981396,\n",
       "         285.18407156,  284.36400884]])"
      ]
     },
     "execution_count": 10,
     "metadata": {},
     "output_type": "execute_result"
    }
   ],
   "source": [
    "summed_arr"
   ]
  },
  {
   "cell_type": "code",
   "execution_count": 11,
   "metadata": {},
   "outputs": [
    {
     "data": {
      "text/plain": [
       "(96, 96, 4)"
      ]
     },
     "execution_count": 11,
     "metadata": {},
     "output_type": "execute_result"
    }
   ],
   "source": [
    "A.shape"
   ]
  },
  {
   "cell_type": "code",
   "execution_count": 12,
   "metadata": {
    "collapsed": true
   },
   "outputs": [],
   "source": [
    "# @hypothesis.given(exnp.arrays(np.uint8, (10, 30, 3),\n",
    "#                               elements=ints(0, 32)))\n",
    "# def test_windowed_sum(img):\n",
    "#     assert ()"
   ]
  },
  {
   "cell_type": "code",
   "execution_count": 13,
   "metadata": {
    "collapsed": true
   },
   "outputs": [],
   "source": [
    "from pycuda import driver, compiler, gpuarray, tools\n",
    "\n",
    "import os\n",
    "os.environ['CUDA_DEVICE'] = '1'\n",
    "\n",
    "import pycuda.autoinit"
   ]
  },
  {
   "cell_type": "code",
   "execution_count": 14,
   "metadata": {
    "collapsed": true
   },
   "outputs": [],
   "source": [
    "image_kernel_code = \"\"\"\n",
    "__global__ void PatchedSumImageKernel(double *A,\n",
    "                                   double *summed_Arr,\n",
    "                                   uint A_width,\n",
    "                                   uint A_height,\n",
    "                                   uint n_color,\n",
    "                                   uint width,\n",
    "                                   uint height)\n",
    "{\n",
    "    uint N_s_row = A_height - height + 1;\n",
    "    uint N_s_col = A_width - width + 1;\n",
    "    uint stride_x = blockDim.x * gridDim.x;\n",
    "    uint stride_y = blockDim.y * gridDim.y;\n",
    "    for (uint i = threadIdx.x + blockIdx.x * blockDim.x;\n",
    "         i < N_s_col;\n",
    "         i += stride_x)\n",
    "    {\n",
    "        for (uint j = threadIdx.y + blockIdx.y * blockDim.y;\n",
    "             j < N_s_row;\n",
    "             j += stride_y)\n",
    "        {\n",
    "            double sum = 0.;\n",
    "            for (uint k = 0; k < width; k++)\n",
    "                {\n",
    "                for (uint l = 0; l < height; l++)\n",
    "                    {\n",
    "                    for (uint m = 0; m < n_color; m++)\n",
    "                        sum += A[(i + k) * n_color + (j + l) * n_color * A_width + m];\n",
    "                    }\n",
    "                }\n",
    "            summed_Arr[i + j * N_s_col] = sum;\n",
    "        }\n",
    "    }\n",
    "}\n",
    "\"\"\""
   ]
  },
  {
   "cell_type": "code",
   "execution_count": 15,
   "metadata": {
    "collapsed": true
   },
   "outputs": [],
   "source": [
    "kernel_code = \"\"\"\n",
    "__global__ void PatchedSumKernel(double *A,\n",
    "                                 double *summed_Arr,\n",
    "                                 uint A_width,\n",
    "                                 uint A_height,\n",
    "                                 uint width,\n",
    "                                 uint height)\n",
    "{\n",
    "    uint N_s_row = A_height - height + 1;\n",
    "    uint N_s_col = A_width - width + 1;\n",
    "    uint stride_x = blockDim.x * gridDim.x;\n",
    "    uint stride_y = blockDim.y * gridDim.y;\n",
    "    for (uint i = threadIdx.x + blockIdx.x * blockDim.x;\n",
    "         i < N_s_col;\n",
    "         i += stride_x)\n",
    "    {\n",
    "        for (uint j = threadIdx.y + blockIdx.y * blockDim.y;\n",
    "             j < N_s_row;\n",
    "             j += stride_y)\n",
    "        {\n",
    "            double sum = 0.;\n",
    "            for (uint k = 0; k < width; k++)\n",
    "                {\n",
    "                for (uint l = 0; l < height; l++)\n",
    "                    {\n",
    "                    sum += A[i + k + (j + l) * A_width];\n",
    "                    }\n",
    "                }\n",
    "            summed_Arr[i + j * N_s_col] = sum;\n",
    "        }\n",
    "    }\n",
    "}\n",
    "\"\"\""
   ]
  },
  {
   "cell_type": "code",
   "execution_count": 16,
   "metadata": {},
   "outputs": [
    {
     "data": {
      "text/plain": [
       "<pycuda._driver.Function at 0x7fee8bf7d5f0>"
      ]
     },
     "execution_count": 16,
     "metadata": {},
     "output_type": "execute_result"
    }
   ],
   "source": [
    "mod = compiler.SourceModule(image_kernel_code)\n",
    "patch_sum = mod.get_function('PatchedSumImageKernel')\n",
    "patch_sum.prepare(['P', 'P', np.int32, np.int32, np.int32, np.int32, np.int32])"
   ]
  },
  {
   "cell_type": "code",
   "execution_count": 17,
   "metadata": {
    "collapsed": true
   },
   "outputs": [],
   "source": [
    "A_gpu = gpuarray.to_gpu(A.flatten())\n",
    "summed_arr_gpu = gpuarray.to_gpu(np.zeros(summed_arr.size))"
   ]
  },
  {
   "cell_type": "code",
   "execution_count": 18,
   "metadata": {},
   "outputs": [
    {
     "name": "stdout",
     "output_type": "stream",
     "text": [
      "CPU times: user 0 ns, sys: 0 ns, total: 0 ns\n",
      "Wall time: 283 µs\n"
     ]
    }
   ],
   "source": [
    "%%time\n",
    "patch_sum.prepared_call(gridsize, threadsize,\n",
    "                        A_gpu.gpudata, \n",
    "                        summed_arr_gpu.gpudata, \n",
    "                        A_width, \n",
    "                        A_height,\n",
    "                        n_colors,\n",
    "                        width,\n",
    "                        height)"
   ]
  },
  {
   "cell_type": "code",
   "execution_count": 19,
   "metadata": {},
   "outputs": [
    {
     "data": {
      "text/plain": [
       "array([ 288.79968015,  288.77304941,  289.82418844, ...,  286.23981396,\n",
       "        285.18407156,  284.36400884])"
      ]
     },
     "execution_count": 19,
     "metadata": {},
     "output_type": "execute_result"
    }
   ],
   "source": [
    "summed_arr_gpu.get()"
   ]
  },
  {
   "cell_type": "code",
   "execution_count": 20,
   "metadata": {
    "scrolled": true
   },
   "outputs": [
    {
     "data": {
      "text/plain": [
       "array([  1.70530257e-13,   0.00000000e+00,  -2.27373675e-13, ...,\n",
       "        -1.70530257e-13,   5.68434189e-14,  -1.13686838e-13])"
      ]
     },
     "execution_count": 20,
     "metadata": {},
     "output_type": "execute_result"
    }
   ],
   "source": [
    "summed_arr.flatten() - summed_arr_gpu.get()"
   ]
  },
  {
   "cell_type": "code",
   "execution_count": 21,
   "metadata": {
    "collapsed": true
   },
   "outputs": [],
   "source": [
    "import matplotlib.pyplot as plt"
   ]
  },
  {
   "cell_type": "code",
   "execution_count": 22,
   "metadata": {
    "scrolled": true
   },
   "outputs": [
    {
     "data": {
      "image/png": "[encoded data removed]",
      "text/plain": [
       "<matplotlib.figure.Figure at 0x7fee7f919990>"
      ]
     },
     "metadata": {},
     "output_type": "display_data"
    }
   ],
   "source": [
    "plt.imshow(summed_arr, cmap='gray', vmin=0., vmax=width * height *3)\n",
    "plt.show()"
   ]
  },
  {
   "cell_type": "code",
   "execution_count": 23,
   "metadata": {},
   "outputs": [
    {
     "data": {
      "image/png": "[encoded data removed]",
      "text/plain": [
       "<matplotlib.figure.Figure at 0x7fee7f6158d0>"
      ]
     },
     "metadata": {},
     "output_type": "display_data"
    }
   ],
   "source": [
    "plt.imshow(summed_arr_gpu.get().reshape((A_height - height + 1,\n",
    "                                         A_width - width + 1)),\n",
    "           cmap='gray', vmin=0., vmax=width * height * 3)\n",
    "plt.show()"
   ]
  },
  {
   "cell_type": "code",
   "execution_count": 24,
   "metadata": {},
   "outputs": [
    {
     "data": {
      "image/png": "[encoded data removed]",
      "text/plain": [
       "<matplotlib.figure.Figure at 0x7fee7f60be10>"
      ]
     },
     "metadata": {},
     "output_type": "display_data"
    }
   ],
   "source": [
    "plt.imshow(abs(summed_arr -\n",
    "               summed_arr_gpu.get().reshape((A_height - height + 1,\n",
    "                                             A_width - width + 1))),\n",
    "           cmap='gray', vmin=0, vmax=1e-12)\n",
    "plt.show()"
   ]
  },
  {
   "cell_type": "code",
   "execution_count": null,
   "metadata": {
    "collapsed": true
   },
   "outputs": [],
   "source": []
  }
 ],
 "metadata": {
  "kernelspec": {
   "display_name": "Python 2",
   "language": "python",
   "name": "python2"
  },
  "language_info": {
   "codemirror_mode": {
    "name": "ipython",
    "version": 2
   },
   "file_extension": ".py",
   "mimetype": "text/x-python",
   "name": "python",
   "nbconvert_exporter": "python",
   "pygments_lexer": "ipython2",
   "version": "2.7.13"
  }
 },
 "nbformat": 4,
 "nbformat_minor": 2
}
