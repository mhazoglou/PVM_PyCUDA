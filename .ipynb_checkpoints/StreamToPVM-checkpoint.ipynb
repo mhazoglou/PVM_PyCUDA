{
 "cells": [
  {
   "cell_type": "code",
   "execution_count": 1,
   "metadata": {},
   "outputs": [],
   "source": [
    "%load_ext autoreload\n",
    "%autoreload 2"
   ]
  },
  {
   "cell_type": "code",
   "execution_count": 2,
   "metadata": {},
   "outputs": [
    {
     "name": "stderr",
     "output_type": "stream",
     "text": [
      "/home/mhazoglou/anaconda3/lib/python3.6/site-packages/h5py/__init__.py:36: FutureWarning: Conversion of the second argument of issubdtype from `float` to `np.floating` is deprecated. In future, it will be treated as `np.float64 == np.dtype(float).type`.\n",
      "  from ._conv import register_converters as _register_converters\n"
     ]
    }
   ],
   "source": [
    "import numpy as np\n",
    "from pycuda import gpuarray, compiler\n",
    "from collections import OrderedDict\n",
    "import requests as req\n",
    "import cv2 as cv\n",
    "import os\n",
    "import h5py"
   ]
  },
  {
   "cell_type": "code",
   "execution_count": 3,
   "metadata": {},
   "outputs": [],
   "source": [
    "# pick your device the default is 0 if not specified if the next line is not commented\n",
    "os.environ['CUDA_DEVICE'] = '1' \n",
    "\n",
    "# autoinit automatically initializes a CUDA context\n",
    "import pycuda.autoinit\n",
    "\n",
    "from PVM_PyCUDA import OnTheFlyPVM"
   ]
  },
  {
   "cell_type": "code",
   "execution_count": 4,
   "metadata": {},
   "outputs": [],
   "source": [
    "# The parameters for the PVM they are set to be the same as the paper though this PVM will not be a tracker\n",
    "n_color = 3\n",
    "input_edge_x, input_edge_y = 10, 10#1, 1#\n",
    "input_size = input_edge_x * input_edge_y * n_color\n",
    "hidden_size = 20#8#\n",
    "output_sizes = [0] * 7\n",
    "structure = [(32, 24), (16, 12), (8, 6), (4, 3), (3, 2), (2, 1), 1]#[96, 48, 24, 12, 6, 3, 2, 1]#\n",
    "\n",
    "edge_n_pixels_x, edge_n_pixels_y = input_edge_x * structure[0][0], input_edge_y * structure[0][1]"
   ]
  },
  {
   "cell_type": "code",
   "execution_count": 5,
   "metadata": {},
   "outputs": [],
   "source": [
    "# importing two functions for mapping and unmapping and image into a\n",
    "# one dimensional array\n",
    "from FormattingFiles import flatten_image, unflatten_image\n",
    "# importing a function to give a connection dictionary\n",
    "from RectangularGridConstructor import make_connections"
   ]
  },
  {
   "cell_type": "code",
   "execution_count": 6,
   "metadata": {},
   "outputs": [],
   "source": [
    "# initialize any instance of a PVM you need to specify how it's connected\n",
    "# this can be as general as you want in principle as connectivity is \n",
    "# defined in dictionary. The function make_connections is a way to \n",
    "# construct a layered hierarchy of rectangular grids with nearest neighbor lateral connections\n",
    "# was done in the paper\n",
    "connect_dict = make_connections(structure, input_size, hidden_size, output_sizes, context_from_top_0_0=True)\n",
    "\n",
    "# dim is a tuple (height, width, number of colors)\n",
    "dim = (edge_n_pixels_y, edge_n_pixels_x, n_color)\n",
    "input_shape = (input_edge_y, input_edge_x)\n",
    "basic_index = np.arange(np.prod(dim)).reshape(dim)\n",
    "flat_map = flatten_image(basic_index, input_shape)\n",
    "rev_flat_map = unflatten_image(basic_index.flatten(), dim, input_shape)"
   ]
  },
  {
   "cell_type": "code",
   "execution_count": null,
   "metadata": {},
   "outputs": [],
   "source": [
    "# you don't need to rerun stuff after it's been saved\n",
    "path = '/home/mhazoglou/'#'/media/sdb/'#'~/Downloads/' # press tab for autocomplete results\n",
    "train_filename = path + '480p_PVM_train_set.hdf5'\n",
    "# test_filename = path + 'PVM_test_set.hdf5'\n",
    "\n",
    "train_data = h5py.File(train_filename, 'r')\n",
    "# test_data_reformat_nontracker =  h5py.File(test_filename, 'r')"
   ]
  },
  {
   "cell_type": "code",
   "execution_count": 7,
   "metadata": {},
   "outputs": [],
   "source": [
    "pvm = OnTheFlyPVM(connect_dict, flat_map, norm=255.)"
   ]
  },
  {
   "cell_type": "code",
   "execution_count": null,
   "metadata": {},
   "outputs": [],
   "source": [
    "fname = '/home/mhazoglou/PVM_PyCUDA/FullSetTraining/480p_20_by_20_tile_hidden_20_no_tracking_learning_rate_0.01_3500000steps' # choose the path and filename\n",
    "# '/home/mhazoglou/PVM_PyCUDA/FullSetTraining/structure_96_48_24_12_ 6_3_2_1_hidden_8_no_tracking_learning_rate_0.01_3500000steps'"
   ]
  },
  {
   "cell_type": "code",
   "execution_count": null,
   "metadata": {},
   "outputs": [],
   "source": [
    "# run this if model has already been trained and parameters have been trained\n",
    "pvm.load_parameters(fname)"
   ]
  },
  {
   "cell_type": "code",
   "execution_count": null,
   "metadata": {},
   "outputs": [],
   "source": [
    "learning_rate_list = [0.01] * 3500000\n",
    "pvm.train(train_data, learning_rate_list, print_every=100000, \n",
    "          save_every_print=True, filename=fname, interval=100000)"
   ]
  },
  {
   "cell_type": "code",
   "execution_count": null,
   "metadata": {},
   "outputs": [],
   "source": [
    "cap = cv.VideoCapture(0)"
   ]
  },
  {
   "cell_type": "code",
   "execution_count": null,
   "metadata": {},
   "outputs": [],
   "source": [
    "pvm.capture(cap)"
   ]
  },
  {
   "cell_type": "code",
   "execution_count": null,
   "metadata": {},
   "outputs": [],
   "source": [
    "pvm.train_capture(cap, learning_rate=0.01, wait_time=10, scale=1)"
   ]
  },
  {
   "cell_type": "code",
   "execution_count": null,
   "metadata": {},
   "outputs": [],
   "source": [
    "rev_map = np.argsort(\n",
    "    pvm.input_frame_shuffle.get()\n",
    ").reshape(edge_n_pixels_y, edge_n_pixels_x, n_color)\n",
    "\n",
    "try:\n",
    "    while True:\n",
    "        ret, frame = cap.read()\n",
    "        input_frame = np.array(cv.resize(frame, \n",
    "                                         (edge_n_pixels_y, edge_n_pixels_x)\n",
    "                                        ), order='C', dtype=np.uint8)\n",
    "        cv.imshow('frame', frame)\n",
    "        \n",
    "        pvm.forward(input_frame)\n",
    "        \n",
    "        cv.imshow('Prediction', cv.resize(np.array(\n",
    "            pvm.norm * pvm.pred[:pvm.L_input].get(),\n",
    "            dtype=np.uint8\n",
    "        )[rev_map], (0, 0), fx=2, fy=2))\n",
    "        \n",
    "        cv.imshow('Error', cv.resize(np.array(\n",
    "            pvm.norm * abs(pvm.err[:pvm.L_input].get() - 0.5),\n",
    "            dtype=np.uint8\n",
    "        )[rev_map], (0, 0), fx=2, fy=2))\n",
    "        \n",
    "        cv.waitKey(1)\n",
    "    # When everything done, release the capture\n",
    "    cap.release()\n",
    "    cv.destroyAllWindows()\n",
    "except KeyboardInterrupt:\n",
    "    cv.destroyAllWindows()"
   ]
  },
  {
   "cell_type": "code",
   "execution_count": null,
   "metadata": {},
   "outputs": [],
   "source": [
    "frame.shape"
   ]
  },
  {
   "cell_type": "code",
   "execution_count": null,
   "metadata": {},
   "outputs": [],
   "source": [
    "print(input_frame[:, :, :], input_frame[:, :, np.array([1,2,0])])"
   ]
  },
  {
   "cell_type": "code",
   "execution_count": null,
   "metadata": {},
   "outputs": [],
   "source": []
  }
 ],
 "metadata": {
  "kernelspec": {
   "display_name": "Python 3",
   "language": "python",
   "name": "python3"
  },
  "language_info": {
   "codemirror_mode": {
    "name": "ipython",
    "version": 3
   },
   "file_extension": ".py",
   "mimetype": "text/x-python",
   "name": "python",
   "nbconvert_exporter": "python",
   "pygments_lexer": "ipython3",
   "version": "3.6.4"
  }
 },
 "nbformat": 4,
 "nbformat_minor": 2
}
