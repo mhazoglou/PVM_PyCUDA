{
 "cells": [
  {
   "cell_type": "code",
   "execution_count": 1,
   "metadata": {
    "collapsed": true
   },
   "outputs": [],
   "source": [
    "from __future__ import absolute_import, print_function, division\n",
    "from builtins import *\n",
    "import numpy as np\n",
    "import pandas as pd\n",
    "import matplotlib.pyplot as plt\n",
    "from PIL import Image, ImageFilter\n",
    "import os\n",
    "import hypothesis\n",
    "import hypothesis.extra.numpy as exnp\n",
    "import h5py\n",
    "%matplotlib inline"
   ]
  },
  {
   "cell_type": "code",
   "execution_count": 2,
   "metadata": {
    "collapsed": true
   },
   "outputs": [],
   "source": [
    "datapath = '/home/mhazoglou/Downloads/greenball/'\n",
    "dirlist = os.listdir(datapath)"
   ]
  },
  {
   "cell_type": "code",
   "execution_count": 3,
   "metadata": {
    "collapsed": true
   },
   "outputs": [],
   "source": [
    "def flatten_image(img_arr, input_shape):\n",
    "    \"\"\"\n",
    "    input_shape in the shape of the input going to a single PVM_unit\n",
    "    in the horizontal and vertical direction\n",
    "    img_arr to flatten in so that we get input_shape sized rectangles\n",
    "    going to PVM units in the first layer\n",
    "    \"\"\"\n",
    "    # don't be dumb and change the data type\n",
    "    datatype = img_arr.dtype\n",
    "    L_y, L_x, n_color = img_arr.shape\n",
    "    l_x, l_y = input_shape\n",
    "    block_size = l_x*l_y*n_color\n",
    "    \n",
    "    x_div = L_x/l_x\n",
    "    y_div = L_y/l_y\n",
    "    \n",
    "    # initialize flat array without changing the data type\n",
    "    flat_arr = np.zeros(L_x*L_y*n_color, dtype=datatype)\n",
    "    assert x_div % 1 == 0\n",
    "    assert y_div % 1 == 0\n",
    "    \n",
    "    x_div = int(x_div)\n",
    "    y_div = int(y_div)\n",
    "    \n",
    "    for x in range(x_div):\n",
    "        for y in range(y_div):\n",
    "            flat_arr[block_size*(x+y*x_div):block_size*(x+y*x_div+1)] = \\\n",
    "            img_arr[y*l_y:(y+1)*l_y, x*l_x:(x+1)*l_x, :].flatten()\n",
    "    return flat_arr"
   ]
  },
  {
   "cell_type": "code",
   "execution_count": 4,
   "metadata": {
    "collapsed": true
   },
   "outputs": [],
   "source": [
    "def unflatten_image(flat_arr, image_shape, input_shape):\n",
    "    # don't be dumb and change the data type \n",
    "    datatype = flat_arr.dtype\n",
    "    L_y, L_x, n_color = image_shape\n",
    "    l_x, l_y = input_shape\n",
    "    block_size = l_x*l_y*n_color\n",
    "    \n",
    "    x_div = L_x/l_x\n",
    "    y_div = L_y/l_y\n",
    "    \n",
    "    # initialize flat array with changing the data type\n",
    "    img_arr = np.zeros((L_y, L_x, n_color), dtype=datatype)\n",
    "    assert x_div % 1 == 0\n",
    "    assert y_div % 1 == 0\n",
    "    \n",
    "    x_div = int(x_div)\n",
    "    y_div = int(y_div)\n",
    "    \n",
    "    for x in range(x_div):\n",
    "        for y in range(y_div):\n",
    "            img_arr[y*l_y:(y+1)*l_y, x*l_x:(x+1)*l_x, :] = \\\n",
    "            flat_arr[block_size*(x+y*x_div):block_size*(x+y*x_div+1)].reshape((l_y, l_x, n_color))\n",
    "    return img_arr"
   ]
  },
  {
   "cell_type": "code",
   "execution_count": 5,
   "metadata": {
    "collapsed": true
   },
   "outputs": [],
   "source": [
    "ints = hypothesis.strategies.integers\n",
    "@hypothesis.given(exnp.arrays(np.uint8, (10, 30, 3), elements=ints(0, 32)))\n",
    "def test_flatten_inverts(img):\n",
    "    assert (unflatten_image(flatten_image(img, (6, 5)), img.shape, (6, 5)) == img).all()\n",
    "\n",
    "test_flatten_inverts()"
   ]
  },
  {
   "cell_type": "code",
   "execution_count": 18,
   "metadata": {
    "collapsed": true
   },
   "outputs": [],
   "source": [
    "new_size = 96\n",
    "input_shape = (6, 6)\n",
    "\n",
    "datadict = {}\n",
    "groundtruthdict = {}\n",
    "for dir_ in dirlist:\n",
    "    \n",
    "    df = pd.read_csv(datapath + dir_+ '/groundtruth_rect.0.txt', header=None)\n",
    "    \n",
    "    imgpath = datapath + '/'.join([dir_, 'img/'])\n",
    "    imglist = sorted(os.listdir(imgpath))\n",
    "    flat_img_list = []\n",
    "    pos_width_list = []\n",
    "    for idx, img in enumerate(imglist):\n",
    "        img_open = Image.open(datapath+'/'.join([dir_, 'img/', img]))\n",
    "        l_x, l_y = img_open.size\n",
    "        x, x_w = (new_size/l_x)*df[[0, 2]].iloc[idx]\n",
    "        y, y_w = (new_size/l_y)*df[[1, 3]].iloc[idx]\n",
    "        img_resize = img_open.resize((new_size, new_size), Image.ANTIALIAS)\n",
    "#         img_resize = img_resize.filter(ImageFilter.BLUR)\n",
    "#         img_resize = img_resize.filter(ImageFilter.BLUR)\n",
    "        img_arr = np.array(img_resize)\n",
    "        flat_img = flatten_image(img_arr, input_shape)\n",
    "        flat_img_list.append(flat_img)\n",
    "        pos_width_list.append([x, y, x_w, y_w])\n",
    "    # each row of the array is an image and since it is \n",
    "    # sorted I should have an easy time with the training\n",
    "    groundtruthdf = pd.DataFrame(pos_width_list, columns=['x', 'y', 'x_w', 'y_w'])\n",
    "    datadict[dir_] = np.array(flat_img_list)\n",
    "    groundtruthdict[dir_] = groundtruthdf"
   ]
  },
  {
   "cell_type": "code",
   "execution_count": 19,
   "metadata": {},
   "outputs": [
    {
     "data": {
      "image/png": "[encoded data removed]",
      "text/plain": [
       "<matplotlib.figure.Figure at 0x7fe6aeacd850>"
      ]
     },
     "metadata": {},
     "output_type": "display_data"
    }
   ],
   "source": [
    "plt.imshow(unflatten_image(flat_img, (new_size, new_size, 3), input_shape))\n",
    "x, x_w = (new_size/l_x)*df[[0, 2]].iloc[idx]\n",
    "y, y_w = (new_size/l_y)*df[[1, 3]].iloc[idx]\n",
    "plt.plot([x, x+x_w], [y, y], 'r')\n",
    "plt.plot([x, x], [y, y+y_w], 'r')\n",
    "plt.plot([x+x_w, x], [y+y_w, y+y_w], 'r')\n",
    "plt.plot([x+x_w, x+x_w], [y, y+y_w], 'r')\n",
    "plt.show()"
   ]
  },
  {
   "cell_type": "code",
   "execution_count": 20,
   "metadata": {},
   "outputs": [
    {
     "data": {
      "image/png": "[encoded data removed]",
      "text/plain": [
       "<matplotlib.figure.Figure at 0x7fe6a2fa73d0>"
      ]
     },
     "metadata": {},
     "output_type": "display_data"
    }
   ],
   "source": [
    "plt.imshow(img_open)\n",
    "plt.show()"
   ]
  },
  {
   "cell_type": "code",
   "execution_count": 25,
   "metadata": {},
   "outputs": [
    {
     "data": {
      "text/plain": [
       "(480, 270)"
      ]
     },
     "execution_count": 25,
     "metadata": {},
     "output_type": "execute_result"
    }
   ],
   "source": [
    "img_open.size"
   ]
  },
  {
   "cell_type": "code",
   "execution_count": 33,
   "metadata": {
    "collapsed": true
   },
   "outputs": [],
   "source": [
    "img_arr = np.array(img_open)"
   ]
  },
  {
   "cell_type": "code",
   "execution_count": 51,
   "metadata": {},
   "outputs": [
    {
     "data": {
      "text/plain": [
       "array([141, 110,  90, ..., 173, 143, 132], dtype=uint8)"
      ]
     },
     "execution_count": 51,
     "metadata": {},
     "output_type": "execute_result"
    }
   ],
   "source": [
    "flatten_image(img_arr, (20, 30))"
   ]
  },
  {
   "cell_type": "code",
   "execution_count": 53,
   "metadata": {},
   "outputs": [
    {
     "data": {
      "text/plain": [
       "True"
      ]
     },
     "execution_count": 53,
     "metadata": {},
     "output_type": "execute_result"
    }
   ],
   "source": [
    "(unflatten_image(flatten_image(img_arr, (20, 30)), img_arr.shape, (20, 30)) == img_arr).all()"
   ]
  },
  {
   "cell_type": "code",
   "execution_count": 21,
   "metadata": {
    "collapsed": true
   },
   "outputs": [],
   "source": [
    "outpath = '/media/sdb/'\n",
    "root = outpath + 'green_ball/'\n",
    "if root.rsplit('/')[-2] not in os.listdir(outpath):\n",
    "    os.mkdir(root)\n",
    "\n",
    "for key, array in datadict.items():\n",
    "    filename = root + key\n",
    "    np.save(filename, array)\n",
    "    groundtruthdict[key].to_csv(filename + '.csv', index = False)"
   ]
  },
  {
   "cell_type": "code",
   "execution_count": null,
   "metadata": {
    "collapsed": true
   },
   "outputs": [],
   "source": [
    "greenball_long_data = np.load(root + dirlist[0]+'.npy')"
   ]
  },
  {
   "cell_type": "code",
   "execution_count": null,
   "metadata": {
    "collapsed": true
   },
   "outputs": [],
   "source": [
    "greenball_long_data"
   ]
  },
  {
   "cell_type": "code",
   "execution_count": 10,
   "metadata": {
    "collapsed": true
   },
   "outputs": [],
   "source": [
    "import pandas as pd\n",
    "\n",
    "datapath = '/home/mhazoglou/Downloads/greenball/'\n",
    "dirlist = os.listdir(datapath)\n",
    "\n",
    "\n"
   ]
  },
  {
   "cell_type": "code",
   "execution_count": 11,
   "metadata": {},
   "outputs": [
    {
     "data": {
      "text/html": [
       "<div>\n",
       "<style>\n",
       "    .dataframe thead tr:only-child th {\n",
       "        text-align: right;\n",
       "    }\n",
       "\n",
       "    .dataframe thead th {\n",
       "        text-align: left;\n",
       "    }\n",
       "\n",
       "    .dataframe tbody tr th {\n",
       "        vertical-align: top;\n",
       "    }\n",
       "</style>\n",
       "<table border=\"1\" class=\"dataframe\">\n",
       "  <thead>\n",
       "    <tr style=\"text-align: right;\">\n",
       "      <th></th>\n",
       "      <th>0</th>\n",
       "      <th>1</th>\n",
       "      <th>2</th>\n",
       "      <th>3</th>\n",
       "    </tr>\n",
       "  </thead>\n",
       "  <tbody>\n",
       "    <tr>\n",
       "      <th>0</th>\n",
       "      <td>204</td>\n",
       "      <td>13</td>\n",
       "      <td>142</td>\n",
       "      <td>142</td>\n",
       "    </tr>\n",
       "    <tr>\n",
       "      <th>1</th>\n",
       "      <td>202</td>\n",
       "      <td>17</td>\n",
       "      <td>142</td>\n",
       "      <td>142</td>\n",
       "    </tr>\n",
       "    <tr>\n",
       "      <th>2</th>\n",
       "      <td>199</td>\n",
       "      <td>22</td>\n",
       "      <td>142</td>\n",
       "      <td>142</td>\n",
       "    </tr>\n",
       "    <tr>\n",
       "      <th>3</th>\n",
       "      <td>197</td>\n",
       "      <td>27</td>\n",
       "      <td>142</td>\n",
       "      <td>142</td>\n",
       "    </tr>\n",
       "    <tr>\n",
       "      <th>4</th>\n",
       "      <td>195</td>\n",
       "      <td>31</td>\n",
       "      <td>142</td>\n",
       "      <td>142</td>\n",
       "    </tr>\n",
       "    <tr>\n",
       "      <th>5</th>\n",
       "      <td>193</td>\n",
       "      <td>36</td>\n",
       "      <td>142</td>\n",
       "      <td>142</td>\n",
       "    </tr>\n",
       "    <tr>\n",
       "      <th>6</th>\n",
       "      <td>190</td>\n",
       "      <td>41</td>\n",
       "      <td>142</td>\n",
       "      <td>142</td>\n",
       "    </tr>\n",
       "    <tr>\n",
       "      <th>7</th>\n",
       "      <td>188</td>\n",
       "      <td>45</td>\n",
       "      <td>142</td>\n",
       "      <td>142</td>\n",
       "    </tr>\n",
       "    <tr>\n",
       "      <th>8</th>\n",
       "      <td>186</td>\n",
       "      <td>50</td>\n",
       "      <td>142</td>\n",
       "      <td>142</td>\n",
       "    </tr>\n",
       "    <tr>\n",
       "      <th>9</th>\n",
       "      <td>184</td>\n",
       "      <td>55</td>\n",
       "      <td>142</td>\n",
       "      <td>142</td>\n",
       "    </tr>\n",
       "    <tr>\n",
       "      <th>10</th>\n",
       "      <td>181</td>\n",
       "      <td>59</td>\n",
       "      <td>142</td>\n",
       "      <td>142</td>\n",
       "    </tr>\n",
       "    <tr>\n",
       "      <th>11</th>\n",
       "      <td>179</td>\n",
       "      <td>64</td>\n",
       "      <td>142</td>\n",
       "      <td>142</td>\n",
       "    </tr>\n",
       "    <tr>\n",
       "      <th>12</th>\n",
       "      <td>177</td>\n",
       "      <td>69</td>\n",
       "      <td>142</td>\n",
       "      <td>142</td>\n",
       "    </tr>\n",
       "    <tr>\n",
       "      <th>13</th>\n",
       "      <td>175</td>\n",
       "      <td>73</td>\n",
       "      <td>142</td>\n",
       "      <td>142</td>\n",
       "    </tr>\n",
       "    <tr>\n",
       "      <th>14</th>\n",
       "      <td>172</td>\n",
       "      <td>78</td>\n",
       "      <td>142</td>\n",
       "      <td>142</td>\n",
       "    </tr>\n",
       "    <tr>\n",
       "      <th>15</th>\n",
       "      <td>170</td>\n",
       "      <td>83</td>\n",
       "      <td>142</td>\n",
       "      <td>142</td>\n",
       "    </tr>\n",
       "    <tr>\n",
       "      <th>16</th>\n",
       "      <td>169</td>\n",
       "      <td>88</td>\n",
       "      <td>142</td>\n",
       "      <td>142</td>\n",
       "    </tr>\n",
       "    <tr>\n",
       "      <th>17</th>\n",
       "      <td>168</td>\n",
       "      <td>93</td>\n",
       "      <td>143</td>\n",
       "      <td>143</td>\n",
       "    </tr>\n",
       "    <tr>\n",
       "      <th>18</th>\n",
       "      <td>167</td>\n",
       "      <td>99</td>\n",
       "      <td>144</td>\n",
       "      <td>144</td>\n",
       "    </tr>\n",
       "    <tr>\n",
       "      <th>19</th>\n",
       "      <td>166</td>\n",
       "      <td>104</td>\n",
       "      <td>145</td>\n",
       "      <td>145</td>\n",
       "    </tr>\n",
       "    <tr>\n",
       "      <th>20</th>\n",
       "      <td>165</td>\n",
       "      <td>110</td>\n",
       "      <td>146</td>\n",
       "      <td>146</td>\n",
       "    </tr>\n",
       "    <tr>\n",
       "      <th>21</th>\n",
       "      <td>164</td>\n",
       "      <td>115</td>\n",
       "      <td>147</td>\n",
       "      <td>147</td>\n",
       "    </tr>\n",
       "    <tr>\n",
       "      <th>22</th>\n",
       "      <td>163</td>\n",
       "      <td>120</td>\n",
       "      <td>148</td>\n",
       "      <td>148</td>\n",
       "    </tr>\n",
       "    <tr>\n",
       "      <th>23</th>\n",
       "      <td>163</td>\n",
       "      <td>126</td>\n",
       "      <td>149</td>\n",
       "      <td>149</td>\n",
       "    </tr>\n",
       "    <tr>\n",
       "      <th>24</th>\n",
       "      <td>162</td>\n",
       "      <td>131</td>\n",
       "      <td>150</td>\n",
       "      <td>150</td>\n",
       "    </tr>\n",
       "    <tr>\n",
       "      <th>25</th>\n",
       "      <td>161</td>\n",
       "      <td>137</td>\n",
       "      <td>151</td>\n",
       "      <td>151</td>\n",
       "    </tr>\n",
       "    <tr>\n",
       "      <th>26</th>\n",
       "      <td>160</td>\n",
       "      <td>142</td>\n",
       "      <td>152</td>\n",
       "      <td>152</td>\n",
       "    </tr>\n",
       "    <tr>\n",
       "      <th>27</th>\n",
       "      <td>159</td>\n",
       "      <td>147</td>\n",
       "      <td>153</td>\n",
       "      <td>153</td>\n",
       "    </tr>\n",
       "    <tr>\n",
       "      <th>28</th>\n",
       "      <td>158</td>\n",
       "      <td>153</td>\n",
       "      <td>154</td>\n",
       "      <td>154</td>\n",
       "    </tr>\n",
       "    <tr>\n",
       "      <th>29</th>\n",
       "      <td>157</td>\n",
       "      <td>158</td>\n",
       "      <td>155</td>\n",
       "      <td>155</td>\n",
       "    </tr>\n",
       "    <tr>\n",
       "      <th>...</th>\n",
       "      <td>...</td>\n",
       "      <td>...</td>\n",
       "      <td>...</td>\n",
       "      <td>...</td>\n",
       "    </tr>\n",
       "    <tr>\n",
       "      <th>2208</th>\n",
       "      <td>195</td>\n",
       "      <td>65</td>\n",
       "      <td>114</td>\n",
       "      <td>108</td>\n",
       "    </tr>\n",
       "    <tr>\n",
       "      <th>2209</th>\n",
       "      <td>196</td>\n",
       "      <td>66</td>\n",
       "      <td>114</td>\n",
       "      <td>108</td>\n",
       "    </tr>\n",
       "    <tr>\n",
       "      <th>2210</th>\n",
       "      <td>197</td>\n",
       "      <td>67</td>\n",
       "      <td>114</td>\n",
       "      <td>108</td>\n",
       "    </tr>\n",
       "    <tr>\n",
       "      <th>2211</th>\n",
       "      <td>199</td>\n",
       "      <td>68</td>\n",
       "      <td>114</td>\n",
       "      <td>108</td>\n",
       "    </tr>\n",
       "    <tr>\n",
       "      <th>2212</th>\n",
       "      <td>200</td>\n",
       "      <td>69</td>\n",
       "      <td>114</td>\n",
       "      <td>108</td>\n",
       "    </tr>\n",
       "    <tr>\n",
       "      <th>2213</th>\n",
       "      <td>201</td>\n",
       "      <td>70</td>\n",
       "      <td>114</td>\n",
       "      <td>108</td>\n",
       "    </tr>\n",
       "    <tr>\n",
       "      <th>2214</th>\n",
       "      <td>202</td>\n",
       "      <td>71</td>\n",
       "      <td>114</td>\n",
       "      <td>108</td>\n",
       "    </tr>\n",
       "    <tr>\n",
       "      <th>2215</th>\n",
       "      <td>204</td>\n",
       "      <td>72</td>\n",
       "      <td>114</td>\n",
       "      <td>108</td>\n",
       "    </tr>\n",
       "    <tr>\n",
       "      <th>2216</th>\n",
       "      <td>205</td>\n",
       "      <td>73</td>\n",
       "      <td>114</td>\n",
       "      <td>108</td>\n",
       "    </tr>\n",
       "    <tr>\n",
       "      <th>2217</th>\n",
       "      <td>206</td>\n",
       "      <td>74</td>\n",
       "      <td>114</td>\n",
       "      <td>108</td>\n",
       "    </tr>\n",
       "    <tr>\n",
       "      <th>2218</th>\n",
       "      <td>207</td>\n",
       "      <td>75</td>\n",
       "      <td>114</td>\n",
       "      <td>108</td>\n",
       "    </tr>\n",
       "    <tr>\n",
       "      <th>2219</th>\n",
       "      <td>209</td>\n",
       "      <td>76</td>\n",
       "      <td>114</td>\n",
       "      <td>108</td>\n",
       "    </tr>\n",
       "    <tr>\n",
       "      <th>2220</th>\n",
       "      <td>210</td>\n",
       "      <td>77</td>\n",
       "      <td>114</td>\n",
       "      <td>108</td>\n",
       "    </tr>\n",
       "    <tr>\n",
       "      <th>2221</th>\n",
       "      <td>213</td>\n",
       "      <td>75</td>\n",
       "      <td>114</td>\n",
       "      <td>108</td>\n",
       "    </tr>\n",
       "    <tr>\n",
       "      <th>2222</th>\n",
       "      <td>215</td>\n",
       "      <td>74</td>\n",
       "      <td>114</td>\n",
       "      <td>108</td>\n",
       "    </tr>\n",
       "    <tr>\n",
       "      <th>2223</th>\n",
       "      <td>218</td>\n",
       "      <td>72</td>\n",
       "      <td>114</td>\n",
       "      <td>108</td>\n",
       "    </tr>\n",
       "    <tr>\n",
       "      <th>2224</th>\n",
       "      <td>221</td>\n",
       "      <td>71</td>\n",
       "      <td>114</td>\n",
       "      <td>108</td>\n",
       "    </tr>\n",
       "    <tr>\n",
       "      <th>2225</th>\n",
       "      <td>224</td>\n",
       "      <td>70</td>\n",
       "      <td>114</td>\n",
       "      <td>108</td>\n",
       "    </tr>\n",
       "    <tr>\n",
       "      <th>2226</th>\n",
       "      <td>226</td>\n",
       "      <td>68</td>\n",
       "      <td>114</td>\n",
       "      <td>108</td>\n",
       "    </tr>\n",
       "    <tr>\n",
       "      <th>2227</th>\n",
       "      <td>229</td>\n",
       "      <td>67</td>\n",
       "      <td>114</td>\n",
       "      <td>108</td>\n",
       "    </tr>\n",
       "    <tr>\n",
       "      <th>2228</th>\n",
       "      <td>232</td>\n",
       "      <td>66</td>\n",
       "      <td>114</td>\n",
       "      <td>108</td>\n",
       "    </tr>\n",
       "    <tr>\n",
       "      <th>2229</th>\n",
       "      <td>235</td>\n",
       "      <td>64</td>\n",
       "      <td>114</td>\n",
       "      <td>108</td>\n",
       "    </tr>\n",
       "    <tr>\n",
       "      <th>2230</th>\n",
       "      <td>237</td>\n",
       "      <td>63</td>\n",
       "      <td>114</td>\n",
       "      <td>108</td>\n",
       "    </tr>\n",
       "    <tr>\n",
       "      <th>2231</th>\n",
       "      <td>240</td>\n",
       "      <td>61</td>\n",
       "      <td>114</td>\n",
       "      <td>108</td>\n",
       "    </tr>\n",
       "    <tr>\n",
       "      <th>2232</th>\n",
       "      <td>243</td>\n",
       "      <td>60</td>\n",
       "      <td>114</td>\n",
       "      <td>108</td>\n",
       "    </tr>\n",
       "    <tr>\n",
       "      <th>2233</th>\n",
       "      <td>246</td>\n",
       "      <td>59</td>\n",
       "      <td>114</td>\n",
       "      <td>108</td>\n",
       "    </tr>\n",
       "    <tr>\n",
       "      <th>2234</th>\n",
       "      <td>248</td>\n",
       "      <td>57</td>\n",
       "      <td>114</td>\n",
       "      <td>108</td>\n",
       "    </tr>\n",
       "    <tr>\n",
       "      <th>2235</th>\n",
       "      <td>251</td>\n",
       "      <td>56</td>\n",
       "      <td>114</td>\n",
       "      <td>108</td>\n",
       "    </tr>\n",
       "    <tr>\n",
       "      <th>2236</th>\n",
       "      <td>251</td>\n",
       "      <td>54</td>\n",
       "      <td>114</td>\n",
       "      <td>108</td>\n",
       "    </tr>\n",
       "    <tr>\n",
       "      <th>2237</th>\n",
       "      <td>251</td>\n",
       "      <td>52</td>\n",
       "      <td>114</td>\n",
       "      <td>108</td>\n",
       "    </tr>\n",
       "  </tbody>\n",
       "</table>\n",
       "<p>2238 rows × 4 columns</p>\n",
       "</div>"
      ],
      "text/plain": [
       "        0    1    2    3\n",
       "0     204   13  142  142\n",
       "1     202   17  142  142\n",
       "2     199   22  142  142\n",
       "3     197   27  142  142\n",
       "4     195   31  142  142\n",
       "5     193   36  142  142\n",
       "6     190   41  142  142\n",
       "7     188   45  142  142\n",
       "8     186   50  142  142\n",
       "9     184   55  142  142\n",
       "10    181   59  142  142\n",
       "11    179   64  142  142\n",
       "12    177   69  142  142\n",
       "13    175   73  142  142\n",
       "14    172   78  142  142\n",
       "15    170   83  142  142\n",
       "16    169   88  142  142\n",
       "17    168   93  143  143\n",
       "18    167   99  144  144\n",
       "19    166  104  145  145\n",
       "20    165  110  146  146\n",
       "21    164  115  147  147\n",
       "22    163  120  148  148\n",
       "23    163  126  149  149\n",
       "24    162  131  150  150\n",
       "25    161  137  151  151\n",
       "26    160  142  152  152\n",
       "27    159  147  153  153\n",
       "28    158  153  154  154\n",
       "29    157  158  155  155\n",
       "...   ...  ...  ...  ...\n",
       "2208  195   65  114  108\n",
       "2209  196   66  114  108\n",
       "2210  197   67  114  108\n",
       "2211  199   68  114  108\n",
       "2212  200   69  114  108\n",
       "2213  201   70  114  108\n",
       "2214  202   71  114  108\n",
       "2215  204   72  114  108\n",
       "2216  205   73  114  108\n",
       "2217  206   74  114  108\n",
       "2218  207   75  114  108\n",
       "2219  209   76  114  108\n",
       "2220  210   77  114  108\n",
       "2221  213   75  114  108\n",
       "2222  215   74  114  108\n",
       "2223  218   72  114  108\n",
       "2224  221   71  114  108\n",
       "2225  224   70  114  108\n",
       "2226  226   68  114  108\n",
       "2227  229   67  114  108\n",
       "2228  232   66  114  108\n",
       "2229  235   64  114  108\n",
       "2230  237   63  114  108\n",
       "2231  240   61  114  108\n",
       "2232  243   60  114  108\n",
       "2233  246   59  114  108\n",
       "2234  248   57  114  108\n",
       "2235  251   56  114  108\n",
       "2236  251   54  114  108\n",
       "2237  251   52  114  108\n",
       "\n",
       "[2238 rows x 4 columns]"
      ]
     },
     "execution_count": 11,
     "metadata": {},
     "output_type": "execute_result"
    }
   ],
   "source": [
    "df"
   ]
  },
  {
   "cell_type": "code",
   "execution_count": 1,
   "metadata": {
    "collapsed": true
   },
   "outputs": [],
   "source": [
    "from FormattingFiles import reformat_tracker_data, save_tracker_data_to"
   ]
  },
  {
   "cell_type": "code",
   "execution_count": 7,
   "metadata": {
    "collapsed": true
   },
   "outputs": [],
   "source": [
    "datapath = '/home/mhazoglou/Downloads/PVM_set/'\n",
    "new_size = (96, 96)\n",
    "input_shape = (3, 3)\n",
    "save_dir = '/media/sdb/PVM_full_set_input_shape_3_by_3/'\n",
    "\n",
    "datadict, groundtruthdict = reformat_tracker_data(datapath, new_size, input_shape)"
   ]
  },
  {
   "cell_type": "code",
   "execution_count": 3,
   "metadata": {
    "collapsed": true
   },
   "outputs": [],
   "source": [
    "save_tracker_data_to(save_dir, datadict, groundtruthdict)"
   ]
  },
  {
   "cell_type": "code",
   "execution_count": 15,
   "metadata": {},
   "outputs": [
    {
     "data": {
      "text/plain": [
       "array([[0, 0, 0, ..., 0, 0, 0],\n",
       "       [0, 0, 0, ..., 0, 0, 0],\n",
       "       [0, 0, 0, ..., 0, 0, 0],\n",
       "       ..., \n",
       "       [0, 0, 0, ..., 0, 0, 0],\n",
       "       [0, 0, 0, ..., 0, 0, 0],\n",
       "       [0, 0, 0, ..., 0, 0, 0]], dtype=uint8)"
      ]
     },
     "execution_count": 15,
     "metadata": {},
     "output_type": "execute_result"
    }
   ],
   "source": [
    "(datadict['blue_ball_at_home_01']-np.load(save_dir + 'blue_ball_at_home_01.npy'))"
   ]
  },
  {
   "cell_type": "code",
   "execution_count": 2,
   "metadata": {
    "collapsed": true
   },
   "outputs": [],
   "source": [
    "from FormattingFiles import save_tracker_data_to, reformat_raw_data"
   ]
  },
  {
   "cell_type": "code",
   "execution_count": null,
   "metadata": {
    "collapsed": true
   },
   "outputs": [],
   "source": [
    "datapath = '/home/mhazoglou/Downloads/PVM_set/'\n",
    "new_size = (96, 96)\n",
    "save_dir = '/media/sdb/PVM_full_set_raw/'\n",
    "\n",
    "datadict, groundtruthdict = reformat_raw_data(datapath, new_size)"
   ]
  },
  {
   "cell_type": "code",
   "execution_count": null,
   "metadata": {
    "collapsed": true
   },
   "outputs": [],
   "source": [
    "datadict['blue_ball_at_home_01'][0, ...].shape"
   ]
  },
  {
   "cell_type": "code",
   "execution_count": 11,
   "metadata": {
    "collapsed": true
   },
   "outputs": [],
   "source": [
    "save_tracker_data_to(save_dir, datadict, groundtruthdict)"
   ]
  },
  {
   "cell_type": "code",
   "execution_count": 9,
   "metadata": {
    "collapsed": true
   },
   "outputs": [],
   "source": [
    "for n in range(1, 12):\n",
    "    path = '/media/sdb/720p_image_data/Teo_car_{}/'.format(n)\n",
    "    f = os.listdir(path + 'img')\n",
    "\n",
    "    with open(path + 'groundtruth_rect.0.txt', 'w') as fid:\n",
    "        for fname in f:\n",
    "            fid.write(u'-1, -1, -1, -1\\n')\n",
    "        \n",
    "    "
   ]
  },
  {
   "cell_type": "code",
   "execution_count": 2,
   "metadata": {
    "collapsed": true
   },
   "outputs": [],
   "source": [
    "def hdf5_raw_data(datapath, filename, new_size, img_dir='img'):\n",
    "    \"\"\"\n",
    "    Reads data in the with the directory structure:\n",
    "    datapath\n",
    "        |\n",
    "        |---name_of_dataset_directory1\n",
    "        |       |---img_dir\n",
    "        |       |       |---img0001\n",
    "        |       |       |---img0002\n",
    "        |       |       |---img0003\n",
    "        |       |       |---img0004\n",
    "        |       |       .\n",
    "        |       |       .\n",
    "        |       |       .\n",
    "        |       |\n",
    "        |       |\n",
    "        |\n",
    "        |---name_of_dataset_directory2\n",
    "        |       |---img_dir\n",
    "        |       |       |---img0001\n",
    "        |       |       |---img0002\n",
    "        |       |       |---img0003\n",
    "        |       |       |---img0004\n",
    "        |       |       .\n",
    "        |       |       .\n",
    "        |       |       .\n",
    "        |       |\n",
    "        |       |\n",
    "        .\n",
    "        .\n",
    "        .\n",
    "\n",
    "    in each folder with the image data needs to be ordered in time with the\n",
    "    earliest at the top and latest at the bottom\n",
    "\n",
    "    :param datapath: A string with the name of a directory containing the\n",
    "    data.\n",
    "    :param filename: A string containing the path and filename of the hdf5 file\n",
    "    that is being written the .hdf5 extension is not needed\n",
    "    :param new_size: A tuple with new sizes of the vertical and horizontal\n",
    "    dimensions of the image.\n",
    "    :param img_dir: It defaults to 'img', a string with the common name of the\n",
    "    directory. \n",
    "    :param n_color: The number of colors used in the format of the image it\n",
    "    defaults to 3 for RGB\n",
    "    \"\"\"\n",
    "    dirlist = os.listdir(datapath)\n",
    "    new_size_y, new_size_x = new_size\n",
    "    \n",
    "    rectlin = lambda z: z if z > 0 else 0\n",
    "    with h5py.File(filename, 'w') as f:\n",
    "        for dir_ in dirlist:\n",
    "\n",
    "            imgpath = datapath + '/'.join([dir_, img_dir + '/'])\n",
    "            imglist = sorted(os.listdir(imgpath))\n",
    "            img_list = []\n",
    "            pos_width_list = []\n",
    "            for idx, img in enumerate(imglist):\n",
    "                img_open = Image.open(datapath + '/'.join([dir_, img_dir, img]))\n",
    "                L_x, L_y = img_open.size\n",
    "                img_resize = img_open.resize((new_size_x, new_size_y),  # (width, height)\n",
    "                                             Image.ANTIALIAS)\n",
    "                img_arr = np.array(img_resize)\n",
    "                img_list.append(img_arr)\n",
    "            # each row of the array is an image and since it is\n",
    "            # sorted I should have an easy time with the training\n",
    "            f[dir_] = np.array(img_list)"
   ]
  },
  {
   "cell_type": "code",
   "execution_count": 3,
   "metadata": {
    "collapsed": true
   },
   "outputs": [],
   "source": [
    "datapath = '/media/sdb/720p_test_data/'\n",
    "new_size = (99, 176)\n",
    "filename = '/media/sdb/720p_rescaled_to_99_by_176_formatted_testing.hdf5'\n",
    "\n",
    "hdf5_raw_data(datapath, filename, new_size, img_dir='img')"
   ]
  },
  {
   "cell_type": "code",
   "execution_count": null,
   "metadata": {
    "collapsed": true
   },
   "outputs": [],
   "source": []
  }
 ],
 "metadata": {
  "kernelspec": {
   "display_name": "Python 2",
   "language": "python",
   "name": "python2"
  },
  "language_info": {
   "codemirror_mode": {
    "name": "ipython",
    "version": 2
   },
   "file_extension": ".py",
   "mimetype": "text/x-python",
   "name": "python",
   "nbconvert_exporter": "python",
   "pygments_lexer": "ipython2",
   "version": "2.7.14"
  }
 },
 "nbformat": 4,
 "nbformat_minor": 2
}
