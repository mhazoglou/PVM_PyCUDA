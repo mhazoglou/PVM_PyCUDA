{
 "cells": [
  {
   "cell_type": "code",
   "execution_count": 1,
   "metadata": {
    "collapsed": true
   },
   "outputs": [],
   "source": [
    "from skimage.filters.rank import entropy\n",
    "from skimage.morphology import square, disk\n",
    "import h5py\n",
    "import numpy as np"
   ]
  },
  {
   "cell_type": "code",
   "execution_count": 2,
   "metadata": {
    "collapsed": true
   },
   "outputs": [],
   "source": [
    "def image_entropy_hdf5(filename, entropy_filename, sq_edge):\n",
    "    data_hdf5 = h5py.File(filename, 'r')\n",
    "    with h5py.File(entropy_filename, 'w') as ent_hdf5:\n",
    "\n",
    "        for key, data in data_hdf5.items():\n",
    "            n_frames, height, width, n_colors = data.shape\n",
    "            ent_list = []\n",
    "            for i in range(n_frames):\n",
    "                img = data[i, ...]\n",
    "                ent = np.zeros((height, width))\n",
    "                for color in range(n_colors):\n",
    "                    ent += entropy(img[..., color], square(sq_edge))\n",
    "                ent_list.append(ent)\n",
    "            ent_hdf5[key] = np.array(ent_list)\n",
    "    data_hdf5.close()"
   ]
  },
  {
   "cell_type": "code",
   "execution_count": 3,
   "metadata": {},
   "outputs": [],
   "source": [
    "sq_edge = 10\n",
    "filename = '/media/sdb/720p_rescaled_to_99_by_176_formatted_testing.hdf5'\n",
    "entropy_filename = '/media/sdb/entropy_720p_rescaled_to_99_by_176_formatted_testing.hdf5'\n",
    "image_entropy_hdf5(filename, entropy_filename, sq_edge)"
   ]
  },
  {
   "cell_type": "code",
   "execution_count": null,
   "metadata": {
    "collapsed": true
   },
   "outputs": [],
   "source": []
  }
 ],
 "metadata": {
  "kernelspec": {
   "display_name": "Python 2",
   "language": "python",
   "name": "python2"
  },
  "language_info": {
   "codemirror_mode": {
    "name": "ipython",
    "version": 2
   },
   "file_extension": ".py",
   "mimetype": "text/x-python",
   "name": "python",
   "nbconvert_exporter": "python",
   "pygments_lexer": "ipython2",
   "version": "2.7.14"
  }
 },
 "nbformat": 4,
 "nbformat_minor": 2
}
