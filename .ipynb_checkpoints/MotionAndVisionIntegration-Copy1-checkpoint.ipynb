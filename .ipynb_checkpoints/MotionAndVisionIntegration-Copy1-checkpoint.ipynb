{
 "cells": [
  {
   "cell_type": "code",
   "execution_count": 1,
   "metadata": {},
   "outputs": [],
   "source": [
    "# this will be useful if you need to reload any module after some changes\n",
    "%load_ext autoreload\n",
    "%autoreload 2"
   ]
  },
  {
   "cell_type": "code",
   "execution_count": 2,
   "metadata": {},
   "outputs": [],
   "source": [
    "import numpy as np\n",
    "from pycuda import gpuarray, compiler\n",
    "from collections import OrderedDict\n",
    "import os\n",
    "import h5py"
   ]
  },
  {
   "cell_type": "code",
   "execution_count": 3,
   "metadata": {},
   "outputs": [],
   "source": [
    "# pick your device the default is 0 if not specified if the next line is not commented\n",
    "os.environ['CUDA_DEVICE'] = '1' \n",
    "\n",
    "# autoinit automatically initializes a CUDA context\n",
    "import pycuda.autoinit\n",
    "\n",
    "from PVM_PyCUDA import MotionIntegrationPVM #OnTheFlyPVM"
   ]
  },
  {
   "cell_type": "code",
   "execution_count": 4,
   "metadata": {},
   "outputs": [],
   "source": [
    "# importing two functions for mapping and unmapping and image into a\n",
    "# one dimensional array\n",
    "from FormattingFiles import flatten_image, unflatten_image\n",
    "# importing a function to give a connection dictionary\n",
    "from RectangularGridConstructor import make_connections, break_stuff"
   ]
  },
  {
   "cell_type": "code",
   "execution_count": 5,
   "metadata": {},
   "outputs": [],
   "source": [
    "# The parameters for the PVM they are different from the original paper\n",
    "n_color = 3\n",
    "input_edge_x, input_edge_y = 4, 4\n",
    "input_size = input_edge_x * input_edge_y * n_color\n",
    "hidden_size = 8\n",
    "inner_hidden_size = 8\n",
    "output_sizes = [0] * 7#8#9#\n",
    "inner_output_size = 0\n",
    "structure = [(32, 24), (16, 12), (8, 6), (4, 3), (3, 2), (2, 1), 1]\n",
    "#[(64, 48), (32, 24), (16, 12), (8, 6), (4, 3), (3, 2), (2, 1), 1]\n",
    "#[(64, 48), (64, 48), (32, 24), (16, 12), (8, 6), (4, 3), (3, 2), (2, 1), 1]\n",
    "#[(128, 96), (64, 48), (32, 24), (16, 12), (8, 6), (4, 3), (3, 2), (2, 1), 1]#[(96, 96), 48, 24, 12, 6, 3, 2, 1]#\n",
    "\n",
    "break_start_x = 16\n",
    "break_end_x = 49\n",
    "break_start_y = 12\n",
    "break_end_y = 37\n",
    "\n",
    "edge_n_pixels_x, edge_n_pixels_y = input_edge_x * structure[0][0], input_edge_y * structure[0][1]"
   ]
  },
  {
   "cell_type": "code",
   "execution_count": 6,
   "metadata": {},
   "outputs": [],
   "source": [
    "# initialize any instance of a PVM you need to specify how it's connected\n",
    "# this can be as general as you want in principle as connectivity is \n",
    "# defined in dictionary. The function make_connections is a way to \n",
    "# construct a layered hierarchy of rectangular grids with nearest neighbor lateral connections\n",
    "# was done in the paper\n",
    "connect_dict = make_connections(structure, input_size, hidden_size, \n",
    "                                output_sizes, context_from_top_0_0=True)\n",
    "# break_unit_list = []\n",
    "# for x in range(break_start_x, break_end_x):\n",
    "#     for y in range(break_start_y, break_end_y):\n",
    "#         break_unit_list.append('_0_{}_{}'.format(x, y))\n",
    "\n",
    "# connect_dict = break_stuff(connect_dict, \n",
    "#                            break_unit_list, \n",
    "#                            (input_edge_y, input_edge_x), \n",
    "#                            inner_hidden_size,\n",
    "#                            inner_output_size)\n",
    "\n",
    "\n",
    "# dim is a tuple (height, width, number of colors)\n",
    "dim = (edge_n_pixels_y, edge_n_pixels_x, 3)\n",
    "input_shape = (input_edge_y, input_edge_x)\n",
    "basic_index = np.arange(np.prod(dim)).reshape(dim)\n",
    "flat_map = flatten_image(basic_index, input_shape)\n",
    "# rev_flat_map = unflatten_image(basic_index.flatten(), dim, input_shape)"
   ]
  },
  {
   "cell_type": "code",
   "execution_count": 7,
   "metadata": {},
   "outputs": [],
   "source": [
    "name_of_pvm_unit_for_pan_tilt = '_0_pan_tilt'\n",
    "\n",
    "tot_hid = 2\n",
    "latsup_pan_tilt = []\n",
    "L_cd = len(connect_dict) # before adding\n",
    "for key, data in connect_dict.items():\n",
    "    (count, input_size, hidden_size, \n",
    "     output_size, fed_from, latsup_list) = data\n",
    "    \n",
    "    latsup_list.append(name_of_pvm_unit_for_pan_tilt)\n",
    "    \n",
    "    if '6' == key[1] or '5' == key[1] or '4' == key[1] or '7' == key[1]:\n",
    "        tot_hid += hidden_size // 2\n",
    "        latsup_pan_tilt.append(key)\n",
    "    connect_dict[key] = (count, input_size, hidden_size, \n",
    "     output_size, fed_from, latsup_list)\n",
    "    \n",
    "\n",
    "\n",
    "connect_dict[name_of_pvm_unit_for_pan_tilt] = (L_cd, 2, tot_hid, 0, [], latsup_pan_tilt)"
   ]
  },
  {
   "cell_type": "code",
   "execution_count": 8,
   "metadata": {},
   "outputs": [
    {
     "data": {
      "text/plain": [
       "((1029,\n",
       "  2,\n",
       "  38,\n",
       "  0,\n",
       "  [],\n",
       "  ['_4_0_0',\n",
       "   '_4_1_0',\n",
       "   '_4_2_0',\n",
       "   '_4_0_1',\n",
       "   '_4_1_1',\n",
       "   '_4_2_1',\n",
       "   '_5_0_0',\n",
       "   '_5_1_0',\n",
       "   '_6_0_0']),\n",
       " 1030)"
      ]
     },
     "execution_count": 8,
     "metadata": {},
     "output_type": "execute_result"
    }
   ],
   "source": [
    "connect_dict['_0_pan_tilt'], len(connect_dict)"
   ]
  },
  {
   "cell_type": "code",
   "execution_count": 9,
   "metadata": {},
   "outputs": [
    {
     "ename": "KeyError",
     "evalue": "'_7_0_0'",
     "output_type": "error",
     "traceback": [
      "\u001b[0;31m---------------------------------------------------------------------------\u001b[0m",
      "\u001b[0;31mKeyError\u001b[0m                                  Traceback (most recent call last)",
      "\u001b[0;32m<ipython-input-9-ed5acb0fd4cb>\u001b[0m in \u001b[0;36m<module>\u001b[0;34m()\u001b[0m\n\u001b[0;32m----> 1\u001b[0;31m \u001b[0mconnect_dict\u001b[0m\u001b[0;34m[\u001b[0m\u001b[0;34m'_7_0_0'\u001b[0m\u001b[0;34m]\u001b[0m\u001b[0;34m\u001b[0m\u001b[0m\n\u001b[0m",
      "\u001b[0;31mKeyError\u001b[0m: '_7_0_0'"
     ]
    }
   ],
   "source": [
    "connect_dict['_7_0_0']"
   ]
  },
  {
   "cell_type": "code",
   "execution_count": 10,
   "metadata": {},
   "outputs": [
    {
     "data": {
      "text/plain": [
       "(1028, 0, 8, 0, ['_5_0_0', '_5_1_0'], ['_0_pan_tilt'])"
      ]
     },
     "execution_count": 10,
     "metadata": {},
     "output_type": "execute_result"
    }
   ],
   "source": [
    "connect_dict['_6_0_0']"
   ]
  },
  {
   "cell_type": "code",
   "execution_count": 11,
   "metadata": {},
   "outputs": [],
   "source": [
    "path = '/media/sdb/'#'~/Downloads/' # press tab for autocomplete results\n",
    "train_filename = path + 'PVM_movement_integration_train_set_96h_by_128w.hdf5'\n",
    "# test_filename = path + 'PVM_test_set.hdf5'\n",
    "\n",
    "train_data = h5py.File(train_filename, 'r')\n",
    "# test_data_reformat_nontracker =  h5py.File(test_filename, 'r')"
   ]
  },
  {
   "cell_type": "code",
   "execution_count": 17,
   "metadata": {},
   "outputs": [],
   "source": [
    "pvm = MotionIntegrationPVM(connect_dict, flat_map, norm_frame=255., norm_pose=1023.)"
   ]
  },
  {
   "cell_type": "code",
   "execution_count": 18,
   "metadata": {},
   "outputs": [],
   "source": [
    "fname = '/home/mhazoglou/PVM_PyCUDA/MotionIntegration/preliminary_model_exp3_lvl_4_5_6connected_to_pan_tilt_unit_3000000steps_0.01'"
   ]
  },
  {
   "cell_type": "code",
   "execution_count": null,
   "metadata": {},
   "outputs": [
    {
     "name": "stdout",
     "output_type": "stream",
     "text": [
      "--------------------------------------------------------------------------------\n",
      "                   AVG MSE over last 100000 frames\n",
      "    100000 frames: 0.031084820816123394\n",
      "    200000 frames: 0.027552705804459374\n"
     ]
    }
   ],
   "source": [
    "learning_rate_list = [0.01]*3000000\n",
    "pvm.train(train_data, learning_rate_list, print_every=100000,\n",
    "          save_every_print=True, filename=fname, interval= 100000)"
   ]
  },
  {
   "cell_type": "code",
   "execution_count": 16,
   "metadata": {},
   "outputs": [],
   "source": [
    "pvm.save_mse(fname)                                                                                                                        "
   ]
  },
  {
   "cell_type": "code",
   "execution_count": null,
   "metadata": {},
   "outputs": [],
   "source": []
  }
 ],
 "metadata": {
  "kernelspec": {
   "display_name": "Python 3",
   "language": "python",
   "name": "python3"
  },
  "language_info": {
   "codemirror_mode": {
    "name": "ipython",
    "version": 3
   },
   "file_extension": ".py",
   "mimetype": "text/x-python",
   "name": "python",
   "nbconvert_exporter": "python",
   "pygments_lexer": "ipython3",
   "version": "3.6.4"
  }
 },
 "nbformat": 4,
 "nbformat_minor": 2
}
