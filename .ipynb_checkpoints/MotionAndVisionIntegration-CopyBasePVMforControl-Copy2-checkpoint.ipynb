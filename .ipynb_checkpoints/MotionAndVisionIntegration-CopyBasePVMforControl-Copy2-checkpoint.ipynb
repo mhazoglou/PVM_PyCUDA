{
 "cells": [
  {
   "cell_type": "code",
   "execution_count": 1,
   "metadata": {},
   "outputs": [],
   "source": [
    "# this will be useful if you need to reload any module after some changes\n",
    "%load_ext autoreload\n",
    "%autoreload 2"
   ]
  },
  {
   "cell_type": "code",
   "execution_count": 2,
   "metadata": {},
   "outputs": [],
   "source": [
    "import numpy as np\n",
    "from pycuda import gpuarray, compiler\n",
    "from collections import OrderedDict\n",
    "import os\n",
    "import h5py"
   ]
  },
  {
   "cell_type": "code",
   "execution_count": 3,
   "metadata": {},
   "outputs": [],
   "source": [
    "# pick your device the default is 0 if not specified if the next line is not commented\n",
    "os.environ['CUDA_DEVICE'] = '0' \n",
    "\n",
    "# autoinit automatically initializes a CUDA context\n",
    "import pycuda.autoinit\n",
    "\n",
    "from PVM_PyCUDA import OnTheFlyPVM"
   ]
  },
  {
   "cell_type": "code",
   "execution_count": 4,
   "metadata": {},
   "outputs": [],
   "source": [
    "# importing two functions for mapping and unmapping and image into a\n",
    "# one dimensional array\n",
    "from FormattingFiles import flatten_image, unflatten_image\n",
    "# importing a function to give a connection dictionary\n",
    "from RectangularGridConstructor import make_connections, break_stuff"
   ]
  },
  {
   "cell_type": "code",
   "execution_count": 5,
   "metadata": {},
   "outputs": [],
   "source": [
    "# The parameters for the PVM they are different from the original paper\n",
    "n_color = 3\n",
    "input_edge_x, input_edge_y = 2, 2\n",
    "input_size = input_edge_x * input_edge_y * n_color\n",
    "hidden_size = 10\n",
    "inner_hidden_size = 10\n",
    "output_sizes = [0] * 8#9#\n",
    "inner_output_size = 0\n",
    "structure = [(64, 48), (32, 24), (16, 12), (8, 6), (4, 3), (3, 2), (2, 1), 1]\n",
    "#[(64, 48), (64, 48), (32, 24), (16, 12), (8, 6), (4, 3), (3, 2), (2, 1), 1]\n",
    "#[(128, 96), (64, 48), (32, 24), (16, 12), (8, 6), (4, 3), (3, 2), (2, 1), 1]#[(96, 96), 48, 24, 12, 6, 3, 2, 1]#\n",
    "\n",
    "# break_start_x = 16\n",
    "# break_end_x = 49\n",
    "# break_start_y = 12\n",
    "# break_end_y = 37\n",
    "\n",
    "edge_n_pixels_x, edge_n_pixels_y = input_edge_x * structure[0][0], input_edge_y * structure[0][1]"
   ]
  },
  {
   "cell_type": "code",
   "execution_count": 6,
   "metadata": {},
   "outputs": [],
   "source": [
    "# initialize any instance of a PVM you need to specify how it's connected\n",
    "# this can be as general as you want in principle as connectivity is \n",
    "# defined in dictionary. The function make_connections is a way to \n",
    "# construct a layered hierarchy of rectangular grids with nearest neighbor lateral connections\n",
    "# was done in the paper\n",
    "connect_dict = make_connections(structure, input_size, hidden_size, \n",
    "                                output_sizes, context_from_top_0_0=True)\n",
    "# break_unit_list = []\n",
    "# for x in range(break_start_x, break_end_x):\n",
    "#     for y in range(break_start_y, break_end_y):\n",
    "#         break_unit_list.append('_0_{}_{}'.format(x, y))\n",
    "\n",
    "# connect_dict = break_stuff(connect_dict, \n",
    "#                            break_unit_list, \n",
    "#                            (input_edge_y, input_edge_x), \n",
    "#                            inner_hidden_size,\n",
    "#                            inner_output_size)\n",
    "\n",
    "\n",
    "# dim is a tuple (height, width, number of colors)\n",
    "dim = (edge_n_pixels_y, edge_n_pixels_x, 3)\n",
    "input_shape = (input_edge_y, input_edge_x)\n",
    "basic_index = np.arange(np.prod(dim)).reshape(dim)\n",
    "flat_map = flatten_image(basic_index, input_shape)\n",
    "# rev_flat_map = unflatten_image(basic_index.flatten(), dim, input_shape)"
   ]
  },
  {
   "cell_type": "code",
   "execution_count": 7,
   "metadata": {},
   "outputs": [],
   "source": [
    "path = '/media/sdb/'#'~/Downloads/' # press tab for autocomplete results\n",
    "train_filename = path + 'PVM_train_set_96h_by_128w.hdf5' \n",
    "#'PVM_movement_integration_train_set_96h_by_128w_no_position.hdf5'\n",
    "# test_filename = path + 'PVM_test_set.hdf5'\n",
    "\n",
    "train_data = h5py.File(train_filename, 'r')\n",
    "# test_data_reformat_nontracker =  h5py.File(test_filename, 'r')"
   ]
  },
  {
   "cell_type": "code",
   "execution_count": 8,
   "metadata": {},
   "outputs": [],
   "source": [
    "pvm = OnTheFlyPVM(connect_dict, flat_map, norm=255.)"
   ]
  },
  {
   "cell_type": "code",
   "execution_count": 9,
   "metadata": {},
   "outputs": [],
   "source": [
    "fname = '/home/mhazoglou/PVM_PyCUDA/MotionIntegration/model_for_transfer_learning_exp1_CONTROL_hidden_size_10_3000000steps_0.01'"
   ]
  },
  {
   "cell_type": "code",
   "execution_count": null,
   "metadata": {},
   "outputs": [
    {
     "name": "stdout",
     "output_type": "stream",
     "text": [
      "--------------------------------------------------------------------------------\n",
      "                   AVG MSE over last 100000 frames\n"
     ]
    }
   ],
   "source": [
    "learning_rate_list = [0.01] * 3000000\n",
    "pvm.train(train_data, learning_rate_list, print_every=100000,\n",
    "          save_every_print=True, filename=fname, interval= 100000)"
   ]
  },
  {
   "cell_type": "code",
   "execution_count": null,
   "metadata": {},
   "outputs": [],
   "source": [
    "pvm.save_mse(fname)                                                                                                                        "
   ]
  },
  {
   "cell_type": "code",
   "execution_count": null,
   "metadata": {},
   "outputs": [],
   "source": []
  }
 ],
 "metadata": {
  "kernelspec": {
   "display_name": "Python 3",
   "language": "python",
   "name": "python3"
  },
  "language_info": {
   "codemirror_mode": {
    "name": "ipython",
    "version": 3
   },
   "file_extension": ".py",
   "mimetype": "text/x-python",
   "name": "python",
   "nbconvert_exporter": "python",
   "pygments_lexer": "ipython3",
   "version": "3.6.4"
  }
 },
 "nbformat": 4,
 "nbformat_minor": 2
}
